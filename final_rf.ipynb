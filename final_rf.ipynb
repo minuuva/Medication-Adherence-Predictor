{
 "cells": [
  {
   "cell_type": "markdown",
   "id": "57b06610",
   "metadata": {},
   "source": [
    "# Final ML Project: Medical Adherence Lab"
   ]
  },
  {
   "cell_type": "markdown",
   "id": "b3b981a0",
   "metadata": {},
   "source": [
    "#### Import Packages"
   ]
  },
  {
   "cell_type": "code",
   "execution_count": 1,
   "id": "3194e9d8",
   "metadata": {},
   "outputs": [],
   "source": [
    "import pandas as pd\n",
    "import matplotlib.pyplot as plt\n",
    "import seaborn as sns\n",
    "from sklearn.ensemble import RandomForestClassifier\n",
    "from sklearn.model_selection import train_test_split\n",
    "from sklearn.ensemble import RandomForestClassifier\n",
    "from sklearn.metrics import roc_curve, auc\n",
    "from sklearn.metrics import RocCurveDisplay\n",
    "from sklearn import metrics\n",
    "from sklearn.metrics import f1_score, recall_score, precision_score\n",
    "from sklearn.model_selection import GridSearchCV"
   ]
  },
  {
   "cell_type": "markdown",
   "id": "1c46c942",
   "metadata": {},
   "source": [
    "#### Load Data"
   ]
  },
  {
   "cell_type": "code",
   "execution_count": 103,
   "id": "66f0f79b",
   "metadata": {},
   "outputs": [
    {
     "data": {
      "application/vnd.microsoft.datawrangler.viewer.v0+json": {
       "columns": [
        {
         "name": "index",
         "rawType": "int64",
         "type": "integer"
        },
        {
         "name": "PatientID",
         "rawType": "int64",
         "type": "integer"
        },
        {
         "name": "Age",
         "rawType": "int64",
         "type": "integer"
        },
        {
         "name": "Gender",
         "rawType": "int64",
         "type": "integer"
        },
        {
         "name": "Ethnicity",
         "rawType": "int64",
         "type": "integer"
        },
        {
         "name": "SocioeconomicStatus",
         "rawType": "int64",
         "type": "integer"
        },
        {
         "name": "EducationLevel",
         "rawType": "int64",
         "type": "integer"
        },
        {
         "name": "BMI",
         "rawType": "float64",
         "type": "float"
        },
        {
         "name": "Smoking",
         "rawType": "int64",
         "type": "integer"
        },
        {
         "name": "AlcoholConsumption",
         "rawType": "float64",
         "type": "float"
        },
        {
         "name": "PhysicalActivity",
         "rawType": "float64",
         "type": "float"
        },
        {
         "name": "DietQuality",
         "rawType": "float64",
         "type": "float"
        },
        {
         "name": "SleepQuality",
         "rawType": "float64",
         "type": "float"
        },
        {
         "name": "FamilyHistoryDiabetes",
         "rawType": "int64",
         "type": "integer"
        },
        {
         "name": "GestationalDiabetes",
         "rawType": "int64",
         "type": "integer"
        },
        {
         "name": "PolycysticOvarySyndrome",
         "rawType": "int64",
         "type": "integer"
        },
        {
         "name": "PreviousPreDiabetes",
         "rawType": "int64",
         "type": "integer"
        },
        {
         "name": "Hypertension",
         "rawType": "int64",
         "type": "integer"
        },
        {
         "name": "SystolicBP",
         "rawType": "int64",
         "type": "integer"
        },
        {
         "name": "DiastolicBP",
         "rawType": "int64",
         "type": "integer"
        },
        {
         "name": "FastingBloodSugar",
         "rawType": "float64",
         "type": "float"
        },
        {
         "name": "HbA1c",
         "rawType": "float64",
         "type": "float"
        },
        {
         "name": "SerumCreatinine",
         "rawType": "float64",
         "type": "float"
        },
        {
         "name": "BUNLevels",
         "rawType": "float64",
         "type": "float"
        },
        {
         "name": "CholesterolTotal",
         "rawType": "float64",
         "type": "float"
        },
        {
         "name": "CholesterolLDL",
         "rawType": "float64",
         "type": "float"
        },
        {
         "name": "CholesterolHDL",
         "rawType": "float64",
         "type": "float"
        },
        {
         "name": "CholesterolTriglycerides",
         "rawType": "float64",
         "type": "float"
        },
        {
         "name": "AntihypertensiveMedications",
         "rawType": "int64",
         "type": "integer"
        },
        {
         "name": "Statins",
         "rawType": "int64",
         "type": "integer"
        },
        {
         "name": "AntidiabeticMedications",
         "rawType": "int64",
         "type": "integer"
        },
        {
         "name": "FrequentUrination",
         "rawType": "int64",
         "type": "integer"
        },
        {
         "name": "ExcessiveThirst",
         "rawType": "int64",
         "type": "integer"
        },
        {
         "name": "UnexplainedWeightLoss",
         "rawType": "int64",
         "type": "integer"
        },
        {
         "name": "FatigueLevels",
         "rawType": "float64",
         "type": "float"
        },
        {
         "name": "BlurredVision",
         "rawType": "int64",
         "type": "integer"
        },
        {
         "name": "SlowHealingSores",
         "rawType": "int64",
         "type": "integer"
        },
        {
         "name": "TinglingHandsFeet",
         "rawType": "int64",
         "type": "integer"
        },
        {
         "name": "QualityOfLifeScore",
         "rawType": "float64",
         "type": "float"
        },
        {
         "name": "HeavyMetalsExposure",
         "rawType": "int64",
         "type": "integer"
        },
        {
         "name": "OccupationalExposureChemicals",
         "rawType": "int64",
         "type": "integer"
        },
        {
         "name": "WaterQuality",
         "rawType": "int64",
         "type": "integer"
        },
        {
         "name": "MedicalCheckupsFrequency",
         "rawType": "float64",
         "type": "float"
        },
        {
         "name": "MedicationAdherence",
         "rawType": "float64",
         "type": "float"
        },
        {
         "name": "HealthLiteracy",
         "rawType": "float64",
         "type": "float"
        },
        {
         "name": "Diagnosis",
         "rawType": "int64",
         "type": "integer"
        },
        {
         "name": "DoctorInCharge",
         "rawType": "object",
         "type": "string"
        }
       ],
       "conversionMethod": "pd.DataFrame",
       "ref": "742a14e1-034e-4f08-9b17-d6754914a01b",
       "rows": [
        [
         "0",
         "6000",
         "44",
         "0",
         "1",
         "2",
         "1",
         "32.98528363147953",
         "1",
         "4.499364662559289",
         "2.443385277880059",
         "4.898831055237948",
         "4.049885278422252",
         "1",
         "1",
         "0",
         "0",
         "0",
         "93",
         "73",
         "163.68716215716134",
         "9.28363131656192",
         "2.665606678134762",
         "28.190146986414845",
         "254.2706704155173",
         "86.99362677931671",
         "70.80146907342441",
         "190.33583366129025",
         "0",
         "0",
         "1",
         "0",
         "0",
         "0",
         "9.534168794136852",
         "0",
         "0",
         "1",
         "73.7651091568668",
         "0",
         "0",
         "0",
         "1.7827242506960626",
         "4.486979557412981",
         "7.2113489367727475",
         "1",
         "Confidential"
        ],
        [
         "1",
         "6001",
         "51",
         "1",
         "0",
         "1",
         "2",
         "39.916764125880974",
         "0",
         "1.578919022031171",
         "8.301264419669659",
         "8.941093370790366",
         "7.508150416102007",
         "0",
         "0",
         "0",
         "0",
         "0",
         "165",
         "99",
         "188.3470703890969",
         "7.326870499343778",
         "4.172176747126118",
         "32.149490562754906",
         "155.3588312736898",
         "110.05610507002493",
         "39.90011154296137",
         "81.17246850968958",
         "0",
         "0",
         "0",
         "0",
         "0",
         "0",
         "0.1232139897112838",
         "0",
         "0",
         "0",
         "91.4457528301502",
         "0",
         "0",
         "1",
         "3.381069654567674",
         "5.961704862944367",
         "5.024612227805186",
         "1",
         "Confidential"
        ],
        [
         "2",
         "6002",
         "89",
         "1",
         "0",
         "1",
         "3",
         "19.78225130010097",
         "0",
         "1.1773011585548998",
         "6.103395048386896",
         "7.722543086655254",
         "7.708387493140089",
         "1",
         "0",
         "0",
         "0",
         "0",
         "119",
         "91",
         "127.70365327812354",
         "4.083425702071104",
         "1.9731681773438887",
         "10.018375268929027",
         "231.60892248874177",
         "62.03579285319309",
         "62.48066593039718",
         "279.8090694658932",
         "1",
         "1",
         "0",
         "0",
         "0",
         "0",
         "9.643320371692225",
         "0",
         "0",
         "0",
         "54.48574422190213",
         "0",
         "0",
         "0",
         "2.701018729497643",
         "8.950820518722507",
         "7.0349436990025485",
         "0",
         "Confidential"
        ],
        [
         "3",
         "6003",
         "21",
         "1",
         "1",
         "1",
         "2",
         "32.3768807915271",
         "1",
         "1.714621007745527",
         "8.64546518551969",
         "4.804044050369052",
         "6.286548306692199",
         "1",
         "1",
         "0",
         "1",
         "0",
         "169",
         "87",
         "82.68841547826207",
         "6.516644946433469",
         "3.05779650939076",
         "44.12328143227131",
         "176.59237417404873",
         "68.23840955194625",
         "46.97781927174319",
         "112.7513961357848",
         "0",
         "0",
         "1",
         "0",
         "0",
         "0",
         "3.4035568916649828",
         "0",
         "0",
         "0",
         "77.86675766406532",
         "0",
         "0",
         "1",
         "1.4090558394059216",
         "3.1247685708774133",
         "4.717774284423961",
         "0",
         "Confidential"
        ],
        [
         "4",
         "6004",
         "27",
         "1",
         "0",
         "1",
         "3",
         "16.808600273405307",
         "0",
         "15.4625488312587",
         "4.62938308903732",
         "2.53275642106766",
         "9.771125231466325",
         "0",
         "0",
         "0",
         "0",
         "0",
         "165",
         "69",
         "90.7433946774801",
         "5.607221549641444",
         "4.150353490548432",
         "7.757116649582879",
         "157.34412134750147",
         "66.4762152267434",
         "40.05975475438986",
         "381.5287849725452",
         "1",
         "1",
         "0",
         "0",
         "0",
         "0",
         "2.924686837996183",
         "0",
         "0",
         "0",
         "37.731808014620825",
         "0",
         "0",
         "0",
         "1.218452269419564",
         "6.977741342165485",
         "7.887940037735355",
         "0",
         "Confidential"
        ],
        [
         "5",
         "6005",
         "65",
         "0",
         "0",
         "0",
         "0",
         "15.820814970325484",
         "1",
         "17.78102420550244",
         "9.252521571337732",
         "2.3091580059569483",
         "9.869400950730975",
         "0",
         "0",
         "0",
         "0",
         "0",
         "144",
         "64",
         "119.59383879438631",
         "8.523665495286558",
         "0.7330912495102085",
         "35.797134705406336",
         "250.00189804707907",
         "65.20200259707187",
         "24.7050407382011",
         "395.4948091266437",
         "0",
         "1",
         "0",
         "0",
         "0",
         "0",
         "1.9736420083206108",
         "0",
         "0",
         "0",
         "86.37896867052939",
         "0",
         "0",
         "0",
         "1.535161097013002",
         "9.682226447059852",
         "2.744280929115236",
         "0",
         "Confidential"
        ],
        [
         "6",
         "6006",
         "61",
         "1",
         "2",
         "1",
         "3",
         "20.075147236055223",
         "0",
         "1.0864793269325743",
         "8.745649625703066",
         "4.705479903893344",
         "4.3178128697832046",
         "0",
         "0",
         "0",
         "0",
         "0",
         "109",
         "96",
         "157.00274070311477",
         "4.525073869926768",
         "3.624364206101502",
         "10.78719877305997",
         "258.3931589606973",
         "104.85244226338104",
         "24.45778658884172",
         "83.54635637534096",
         "0",
         "0",
         "0",
         "1",
         "0",
         "0",
         "6.519586987077918",
         "0",
         "0",
         "0",
         "86.03693104030322",
         "0",
         "0",
         "0",
         "0.578207728836106",
         "1.175503943256463",
         "1.2294526984887777",
         "0",
         "Confidential"
        ],
        [
         "7",
         "6007",
         "74",
         "1",
         "3",
         "0",
         "3",
         "29.438938369095798",
         "0",
         "6.187377669566381",
         "9.114534734633535",
         "0.1804633409478173",
         "5.365337543959409",
         "0",
         "1",
         "0",
         "0",
         "0",
         "128",
         "98",
         "81.5078879474583",
         "7.426381755416644",
         "0.9792215198783082",
         "36.84418937252745",
         "159.338688907592",
         "108.54871345491816",
         "39.44800858574538",
         "121.67427664211588",
         "0",
         "0",
         "0",
         "0",
         "0",
         "1",
         "2.314413420731254",
         "0",
         "0",
         "0",
         "47.31581975294059",
         "0",
         "0",
         "0",
         "1.659423781623539",
         "2.2583766056416037",
         "9.035877485115163",
         "0",
         "Confidential"
        ],
        [
         "8",
         "6008",
         "54",
         "0",
         "0",
         "1",
         "2",
         "15.027556859806436",
         "0",
         "19.505734143360804",
         "0.5907707537697948",
         "7.958310262441763",
         "8.425993818451921",
         "0",
         "0",
         "0",
         "0",
         "0",
         "172",
         "66",
         "130.83911192919996",
         "8.601526087216296",
         "0.962348158799956",
         "12.368956238000315",
         "168.14778030582903",
         "59.20296073158479",
         "85.45836323884097",
         "257.7494898441184",
         "0",
         "0",
         "0",
         "0",
         "0",
         "0",
         "4.965486110464963",
         "1",
         "0",
         "0",
         "88.63813012849388",
         "0",
         "0",
         "0",
         "3.675915541205138",
         "2.006186138033821",
         "3.4528051879892327",
         "1",
         "Confidential"
        ],
        [
         "9",
         "6009",
         "82",
         "1",
         "0",
         "1",
         "1",
         "34.30004376673671",
         "1",
         "15.943843897281893",
         "6.0566213418765855",
         "1.3393021096087698",
         "6.718609455385399",
         "0",
         "0",
         "0",
         "0",
         "0",
         "95",
         "85",
         "81.72107026385484",
         "7.424233050086022",
         "3.3476837925341",
         "7.351595828065026",
         "164.02432616085733",
         "77.85045298961418",
         "55.621487376932784",
         "391.3991374426429",
         "0",
         "0",
         "0",
         "0",
         "1",
         "0",
         "4.600089548309949",
         "1",
         "0",
         "0",
         "96.63654098058888",
         "0",
         "0",
         "0",
         "2.5673148140239905",
         "4.031643438810983",
         "2.633287388452772",
         "0",
         "Confidential"
        ]
       ],
       "shape": {
        "columns": 46,
        "rows": 10
       }
      },
      "text/html": [
       "<div>\n",
       "<style scoped>\n",
       "    .dataframe tbody tr th:only-of-type {\n",
       "        vertical-align: middle;\n",
       "    }\n",
       "\n",
       "    .dataframe tbody tr th {\n",
       "        vertical-align: top;\n",
       "    }\n",
       "\n",
       "    .dataframe thead th {\n",
       "        text-align: right;\n",
       "    }\n",
       "</style>\n",
       "<table border=\"1\" class=\"dataframe\">\n",
       "  <thead>\n",
       "    <tr style=\"text-align: right;\">\n",
       "      <th></th>\n",
       "      <th>PatientID</th>\n",
       "      <th>Age</th>\n",
       "      <th>Gender</th>\n",
       "      <th>Ethnicity</th>\n",
       "      <th>SocioeconomicStatus</th>\n",
       "      <th>EducationLevel</th>\n",
       "      <th>BMI</th>\n",
       "      <th>Smoking</th>\n",
       "      <th>AlcoholConsumption</th>\n",
       "      <th>PhysicalActivity</th>\n",
       "      <th>...</th>\n",
       "      <th>TinglingHandsFeet</th>\n",
       "      <th>QualityOfLifeScore</th>\n",
       "      <th>HeavyMetalsExposure</th>\n",
       "      <th>OccupationalExposureChemicals</th>\n",
       "      <th>WaterQuality</th>\n",
       "      <th>MedicalCheckupsFrequency</th>\n",
       "      <th>MedicationAdherence</th>\n",
       "      <th>HealthLiteracy</th>\n",
       "      <th>Diagnosis</th>\n",
       "      <th>DoctorInCharge</th>\n",
       "    </tr>\n",
       "  </thead>\n",
       "  <tbody>\n",
       "    <tr>\n",
       "      <th>0</th>\n",
       "      <td>6000</td>\n",
       "      <td>44</td>\n",
       "      <td>0</td>\n",
       "      <td>1</td>\n",
       "      <td>2</td>\n",
       "      <td>1</td>\n",
       "      <td>32.985284</td>\n",
       "      <td>1</td>\n",
       "      <td>4.499365</td>\n",
       "      <td>2.443385</td>\n",
       "      <td>...</td>\n",
       "      <td>1</td>\n",
       "      <td>73.765109</td>\n",
       "      <td>0</td>\n",
       "      <td>0</td>\n",
       "      <td>0</td>\n",
       "      <td>1.782724</td>\n",
       "      <td>4.486980</td>\n",
       "      <td>7.211349</td>\n",
       "      <td>1</td>\n",
       "      <td>Confidential</td>\n",
       "    </tr>\n",
       "    <tr>\n",
       "      <th>1</th>\n",
       "      <td>6001</td>\n",
       "      <td>51</td>\n",
       "      <td>1</td>\n",
       "      <td>0</td>\n",
       "      <td>1</td>\n",
       "      <td>2</td>\n",
       "      <td>39.916764</td>\n",
       "      <td>0</td>\n",
       "      <td>1.578919</td>\n",
       "      <td>8.301264</td>\n",
       "      <td>...</td>\n",
       "      <td>0</td>\n",
       "      <td>91.445753</td>\n",
       "      <td>0</td>\n",
       "      <td>0</td>\n",
       "      <td>1</td>\n",
       "      <td>3.381070</td>\n",
       "      <td>5.961705</td>\n",
       "      <td>5.024612</td>\n",
       "      <td>1</td>\n",
       "      <td>Confidential</td>\n",
       "    </tr>\n",
       "    <tr>\n",
       "      <th>2</th>\n",
       "      <td>6002</td>\n",
       "      <td>89</td>\n",
       "      <td>1</td>\n",
       "      <td>0</td>\n",
       "      <td>1</td>\n",
       "      <td>3</td>\n",
       "      <td>19.782251</td>\n",
       "      <td>0</td>\n",
       "      <td>1.177301</td>\n",
       "      <td>6.103395</td>\n",
       "      <td>...</td>\n",
       "      <td>0</td>\n",
       "      <td>54.485744</td>\n",
       "      <td>0</td>\n",
       "      <td>0</td>\n",
       "      <td>0</td>\n",
       "      <td>2.701019</td>\n",
       "      <td>8.950821</td>\n",
       "      <td>7.034944</td>\n",
       "      <td>0</td>\n",
       "      <td>Confidential</td>\n",
       "    </tr>\n",
       "    <tr>\n",
       "      <th>3</th>\n",
       "      <td>6003</td>\n",
       "      <td>21</td>\n",
       "      <td>1</td>\n",
       "      <td>1</td>\n",
       "      <td>1</td>\n",
       "      <td>2</td>\n",
       "      <td>32.376881</td>\n",
       "      <td>1</td>\n",
       "      <td>1.714621</td>\n",
       "      <td>8.645465</td>\n",
       "      <td>...</td>\n",
       "      <td>0</td>\n",
       "      <td>77.866758</td>\n",
       "      <td>0</td>\n",
       "      <td>0</td>\n",
       "      <td>1</td>\n",
       "      <td>1.409056</td>\n",
       "      <td>3.124769</td>\n",
       "      <td>4.717774</td>\n",
       "      <td>0</td>\n",
       "      <td>Confidential</td>\n",
       "    </tr>\n",
       "    <tr>\n",
       "      <th>4</th>\n",
       "      <td>6004</td>\n",
       "      <td>27</td>\n",
       "      <td>1</td>\n",
       "      <td>0</td>\n",
       "      <td>1</td>\n",
       "      <td>3</td>\n",
       "      <td>16.808600</td>\n",
       "      <td>0</td>\n",
       "      <td>15.462549</td>\n",
       "      <td>4.629383</td>\n",
       "      <td>...</td>\n",
       "      <td>0</td>\n",
       "      <td>37.731808</td>\n",
       "      <td>0</td>\n",
       "      <td>0</td>\n",
       "      <td>0</td>\n",
       "      <td>1.218452</td>\n",
       "      <td>6.977741</td>\n",
       "      <td>7.887940</td>\n",
       "      <td>0</td>\n",
       "      <td>Confidential</td>\n",
       "    </tr>\n",
       "    <tr>\n",
       "      <th>5</th>\n",
       "      <td>6005</td>\n",
       "      <td>65</td>\n",
       "      <td>0</td>\n",
       "      <td>0</td>\n",
       "      <td>0</td>\n",
       "      <td>0</td>\n",
       "      <td>15.820815</td>\n",
       "      <td>1</td>\n",
       "      <td>17.781024</td>\n",
       "      <td>9.252522</td>\n",
       "      <td>...</td>\n",
       "      <td>0</td>\n",
       "      <td>86.378969</td>\n",
       "      <td>0</td>\n",
       "      <td>0</td>\n",
       "      <td>0</td>\n",
       "      <td>1.535161</td>\n",
       "      <td>9.682226</td>\n",
       "      <td>2.744281</td>\n",
       "      <td>0</td>\n",
       "      <td>Confidential</td>\n",
       "    </tr>\n",
       "    <tr>\n",
       "      <th>6</th>\n",
       "      <td>6006</td>\n",
       "      <td>61</td>\n",
       "      <td>1</td>\n",
       "      <td>2</td>\n",
       "      <td>1</td>\n",
       "      <td>3</td>\n",
       "      <td>20.075147</td>\n",
       "      <td>0</td>\n",
       "      <td>1.086479</td>\n",
       "      <td>8.745650</td>\n",
       "      <td>...</td>\n",
       "      <td>0</td>\n",
       "      <td>86.036931</td>\n",
       "      <td>0</td>\n",
       "      <td>0</td>\n",
       "      <td>0</td>\n",
       "      <td>0.578208</td>\n",
       "      <td>1.175504</td>\n",
       "      <td>1.229453</td>\n",
       "      <td>0</td>\n",
       "      <td>Confidential</td>\n",
       "    </tr>\n",
       "    <tr>\n",
       "      <th>7</th>\n",
       "      <td>6007</td>\n",
       "      <td>74</td>\n",
       "      <td>1</td>\n",
       "      <td>3</td>\n",
       "      <td>0</td>\n",
       "      <td>3</td>\n",
       "      <td>29.438938</td>\n",
       "      <td>0</td>\n",
       "      <td>6.187378</td>\n",
       "      <td>9.114535</td>\n",
       "      <td>...</td>\n",
       "      <td>0</td>\n",
       "      <td>47.315820</td>\n",
       "      <td>0</td>\n",
       "      <td>0</td>\n",
       "      <td>0</td>\n",
       "      <td>1.659424</td>\n",
       "      <td>2.258377</td>\n",
       "      <td>9.035877</td>\n",
       "      <td>0</td>\n",
       "      <td>Confidential</td>\n",
       "    </tr>\n",
       "    <tr>\n",
       "      <th>8</th>\n",
       "      <td>6008</td>\n",
       "      <td>54</td>\n",
       "      <td>0</td>\n",
       "      <td>0</td>\n",
       "      <td>1</td>\n",
       "      <td>2</td>\n",
       "      <td>15.027557</td>\n",
       "      <td>0</td>\n",
       "      <td>19.505734</td>\n",
       "      <td>0.590771</td>\n",
       "      <td>...</td>\n",
       "      <td>0</td>\n",
       "      <td>88.638130</td>\n",
       "      <td>0</td>\n",
       "      <td>0</td>\n",
       "      <td>0</td>\n",
       "      <td>3.675916</td>\n",
       "      <td>2.006186</td>\n",
       "      <td>3.452805</td>\n",
       "      <td>1</td>\n",
       "      <td>Confidential</td>\n",
       "    </tr>\n",
       "    <tr>\n",
       "      <th>9</th>\n",
       "      <td>6009</td>\n",
       "      <td>82</td>\n",
       "      <td>1</td>\n",
       "      <td>0</td>\n",
       "      <td>1</td>\n",
       "      <td>1</td>\n",
       "      <td>34.300044</td>\n",
       "      <td>1</td>\n",
       "      <td>15.943844</td>\n",
       "      <td>6.056621</td>\n",
       "      <td>...</td>\n",
       "      <td>0</td>\n",
       "      <td>96.636541</td>\n",
       "      <td>0</td>\n",
       "      <td>0</td>\n",
       "      <td>0</td>\n",
       "      <td>2.567315</td>\n",
       "      <td>4.031643</td>\n",
       "      <td>2.633287</td>\n",
       "      <td>0</td>\n",
       "      <td>Confidential</td>\n",
       "    </tr>\n",
       "  </tbody>\n",
       "</table>\n",
       "<p>10 rows × 46 columns</p>\n",
       "</div>"
      ],
      "text/plain": [
       "   PatientID  Age  Gender  Ethnicity  SocioeconomicStatus  EducationLevel  \\\n",
       "0       6000   44       0          1                    2               1   \n",
       "1       6001   51       1          0                    1               2   \n",
       "2       6002   89       1          0                    1               3   \n",
       "3       6003   21       1          1                    1               2   \n",
       "4       6004   27       1          0                    1               3   \n",
       "5       6005   65       0          0                    0               0   \n",
       "6       6006   61       1          2                    1               3   \n",
       "7       6007   74       1          3                    0               3   \n",
       "8       6008   54       0          0                    1               2   \n",
       "9       6009   82       1          0                    1               1   \n",
       "\n",
       "         BMI  Smoking  AlcoholConsumption  PhysicalActivity  ...  \\\n",
       "0  32.985284        1            4.499365          2.443385  ...   \n",
       "1  39.916764        0            1.578919          8.301264  ...   \n",
       "2  19.782251        0            1.177301          6.103395  ...   \n",
       "3  32.376881        1            1.714621          8.645465  ...   \n",
       "4  16.808600        0           15.462549          4.629383  ...   \n",
       "5  15.820815        1           17.781024          9.252522  ...   \n",
       "6  20.075147        0            1.086479          8.745650  ...   \n",
       "7  29.438938        0            6.187378          9.114535  ...   \n",
       "8  15.027557        0           19.505734          0.590771  ...   \n",
       "9  34.300044        1           15.943844          6.056621  ...   \n",
       "\n",
       "   TinglingHandsFeet  QualityOfLifeScore  HeavyMetalsExposure  \\\n",
       "0                  1           73.765109                    0   \n",
       "1                  0           91.445753                    0   \n",
       "2                  0           54.485744                    0   \n",
       "3                  0           77.866758                    0   \n",
       "4                  0           37.731808                    0   \n",
       "5                  0           86.378969                    0   \n",
       "6                  0           86.036931                    0   \n",
       "7                  0           47.315820                    0   \n",
       "8                  0           88.638130                    0   \n",
       "9                  0           96.636541                    0   \n",
       "\n",
       "   OccupationalExposureChemicals  WaterQuality  MedicalCheckupsFrequency  \\\n",
       "0                              0             0                  1.782724   \n",
       "1                              0             1                  3.381070   \n",
       "2                              0             0                  2.701019   \n",
       "3                              0             1                  1.409056   \n",
       "4                              0             0                  1.218452   \n",
       "5                              0             0                  1.535161   \n",
       "6                              0             0                  0.578208   \n",
       "7                              0             0                  1.659424   \n",
       "8                              0             0                  3.675916   \n",
       "9                              0             0                  2.567315   \n",
       "\n",
       "   MedicationAdherence  HealthLiteracy  Diagnosis  DoctorInCharge  \n",
       "0             4.486980        7.211349          1    Confidential  \n",
       "1             5.961705        5.024612          1    Confidential  \n",
       "2             8.950821        7.034944          0    Confidential  \n",
       "3             3.124769        4.717774          0    Confidential  \n",
       "4             6.977741        7.887940          0    Confidential  \n",
       "5             9.682226        2.744281          0    Confidential  \n",
       "6             1.175504        1.229453          0    Confidential  \n",
       "7             2.258377        9.035877          0    Confidential  \n",
       "8             2.006186        3.452805          1    Confidential  \n",
       "9             4.031643        2.633287          0    Confidential  \n",
       "\n",
       "[10 rows x 46 columns]"
      ]
     },
     "execution_count": 103,
     "metadata": {},
     "output_type": "execute_result"
    }
   ],
   "source": [
    "df = pd.read_csv('diabetes_data.csv')\n",
    "df.head(10)"
   ]
  },
  {
   "cell_type": "code",
   "execution_count": 104,
   "id": "26cef7d8",
   "metadata": {},
   "outputs": [
    {
     "data": {
      "application/vnd.microsoft.datawrangler.viewer.v0+json": {
       "columns": [
        {
         "name": "index",
         "rawType": "object",
         "type": "string"
        },
        {
         "name": "PatientID",
         "rawType": "float64",
         "type": "float"
        },
        {
         "name": "Age",
         "rawType": "float64",
         "type": "float"
        },
        {
         "name": "Gender",
         "rawType": "float64",
         "type": "float"
        },
        {
         "name": "Ethnicity",
         "rawType": "float64",
         "type": "float"
        },
        {
         "name": "SocioeconomicStatus",
         "rawType": "float64",
         "type": "float"
        },
        {
         "name": "EducationLevel",
         "rawType": "float64",
         "type": "float"
        },
        {
         "name": "BMI",
         "rawType": "float64",
         "type": "float"
        },
        {
         "name": "Smoking",
         "rawType": "float64",
         "type": "float"
        },
        {
         "name": "AlcoholConsumption",
         "rawType": "float64",
         "type": "float"
        },
        {
         "name": "PhysicalActivity",
         "rawType": "float64",
         "type": "float"
        },
        {
         "name": "DietQuality",
         "rawType": "float64",
         "type": "float"
        },
        {
         "name": "SleepQuality",
         "rawType": "float64",
         "type": "float"
        },
        {
         "name": "FamilyHistoryDiabetes",
         "rawType": "float64",
         "type": "float"
        },
        {
         "name": "GestationalDiabetes",
         "rawType": "float64",
         "type": "float"
        },
        {
         "name": "PolycysticOvarySyndrome",
         "rawType": "float64",
         "type": "float"
        },
        {
         "name": "PreviousPreDiabetes",
         "rawType": "float64",
         "type": "float"
        },
        {
         "name": "Hypertension",
         "rawType": "float64",
         "type": "float"
        },
        {
         "name": "SystolicBP",
         "rawType": "float64",
         "type": "float"
        },
        {
         "name": "DiastolicBP",
         "rawType": "float64",
         "type": "float"
        },
        {
         "name": "FastingBloodSugar",
         "rawType": "float64",
         "type": "float"
        },
        {
         "name": "HbA1c",
         "rawType": "float64",
         "type": "float"
        },
        {
         "name": "SerumCreatinine",
         "rawType": "float64",
         "type": "float"
        },
        {
         "name": "BUNLevels",
         "rawType": "float64",
         "type": "float"
        },
        {
         "name": "CholesterolTotal",
         "rawType": "float64",
         "type": "float"
        },
        {
         "name": "CholesterolLDL",
         "rawType": "float64",
         "type": "float"
        },
        {
         "name": "CholesterolHDL",
         "rawType": "float64",
         "type": "float"
        },
        {
         "name": "CholesterolTriglycerides",
         "rawType": "float64",
         "type": "float"
        },
        {
         "name": "AntihypertensiveMedications",
         "rawType": "float64",
         "type": "float"
        },
        {
         "name": "Statins",
         "rawType": "float64",
         "type": "float"
        },
        {
         "name": "AntidiabeticMedications",
         "rawType": "float64",
         "type": "float"
        },
        {
         "name": "FrequentUrination",
         "rawType": "float64",
         "type": "float"
        },
        {
         "name": "ExcessiveThirst",
         "rawType": "float64",
         "type": "float"
        },
        {
         "name": "UnexplainedWeightLoss",
         "rawType": "float64",
         "type": "float"
        },
        {
         "name": "FatigueLevels",
         "rawType": "float64",
         "type": "float"
        },
        {
         "name": "BlurredVision",
         "rawType": "float64",
         "type": "float"
        },
        {
         "name": "SlowHealingSores",
         "rawType": "float64",
         "type": "float"
        },
        {
         "name": "TinglingHandsFeet",
         "rawType": "float64",
         "type": "float"
        },
        {
         "name": "QualityOfLifeScore",
         "rawType": "float64",
         "type": "float"
        },
        {
         "name": "HeavyMetalsExposure",
         "rawType": "float64",
         "type": "float"
        },
        {
         "name": "OccupationalExposureChemicals",
         "rawType": "float64",
         "type": "float"
        },
        {
         "name": "WaterQuality",
         "rawType": "float64",
         "type": "float"
        },
        {
         "name": "MedicalCheckupsFrequency",
         "rawType": "float64",
         "type": "float"
        },
        {
         "name": "MedicationAdherence",
         "rawType": "float64",
         "type": "float"
        },
        {
         "name": "HealthLiteracy",
         "rawType": "float64",
         "type": "float"
        },
        {
         "name": "Diagnosis",
         "rawType": "float64",
         "type": "float"
        }
       ],
       "conversionMethod": "pd.DataFrame",
       "ref": "fa66be27-27cc-4ae7-950f-637eaaa9e22f",
       "rows": [
        [
         "count",
         "1879.0",
         "1879.0",
         "1879.0",
         "1879.0",
         "1879.0",
         "1879.0",
         "1879.0",
         "1879.0",
         "1879.0",
         "1879.0",
         "1879.0",
         "1879.0",
         "1879.0",
         "1879.0",
         "1879.0",
         "1879.0",
         "1879.0",
         "1879.0",
         "1879.0",
         "1879.0",
         "1879.0",
         "1879.0",
         "1879.0",
         "1879.0",
         "1879.0",
         "1879.0",
         "1879.0",
         "1879.0",
         "1879.0",
         "1879.0",
         "1879.0",
         "1879.0",
         "1879.0",
         "1879.0",
         "1879.0",
         "1879.0",
         "1879.0",
         "1879.0",
         "1879.0",
         "1879.0",
         "1879.0",
         "1879.0",
         "1879.0",
         "1879.0",
         "1879.0"
        ],
        [
         "mean",
         "6939.0",
         "55.043108036189466",
         "0.4874933475252794",
         "0.7557211282597126",
         "0.9920170303352848",
         "1.699308142629058",
         "27.687601425288864",
         "0.28153273017562536",
         "10.09658725259918",
         "5.200790424053894",
         "4.895801066814653",
         "7.0213283616251445",
         "0.23842469398616284",
         "0.09952102182011709",
         "0.04470463012240553",
         "0.15380521554018095",
         "0.15327301756253325",
         "134.05055880787654",
         "89.86375731772219",
         "135.204489753116",
         "6.9761334014791725",
         "2.7845901670768005",
         "27.798153482358256",
         "225.00646433628526",
         "124.65683059240551",
         "60.060943689969676",
         "227.38616735593334",
         "0.2857903139968068",
         "0.40393826503459285",
         "0.27833954230973923",
         "0.1974454497072911",
         "0.19318786588610964",
         "0.1096327833954231",
         "4.949002759233945",
         "0.09526343799893561",
         "0.1027142096860032",
         "0.11122937732836616",
         "48.508643278823",
         "0.052155401809473124",
         "0.10324640766365088",
         "0.2006386375731772",
         "1.9971010334767283",
         "4.957539392834312",
         "5.011736460250499",
         "0.4002128791910591"
        ],
        [
         "std",
         "542.5648962720189",
         "20.515838555991834",
         "0.4999766201492527",
         "1.0475581418872635",
         "0.7649400344901751",
         "0.8856653668015739",
         "7.190975227430127",
         "0.44986637806516355",
         "5.914216066045376",
         "2.8570116832745045",
         "2.8671441027636764",
         "1.7294692108228875",
         "0.4262335584817763",
         "0.2994399893116404",
         "0.20670961850939917",
         "0.36085796821037497",
         "0.36034636850386687",
         "25.613829515851787",
         "17.32808639773344",
         "37.51575017626974",
         "1.7393651955563454",
         "1.3080225496085247",
         "12.800797087889878",
         "43.36717029485437",
         "42.91114537253955",
         "23.31668189388677",
         "101.07157822549348",
         "0.4519102758683607",
         "0.4908160039713352",
         "0.44830079103166887",
         "0.39817724883549",
         "0.39490417859022503",
         "0.3125146613136179",
         "2.884483407098637",
         "0.2936566175845858",
         "0.3036660607103966",
         "0.31449967038486587",
         "28.758487789505",
         "0.22239950360263971",
         "0.304361442367854",
         "0.4005847919285596",
         "1.1226317176224865",
         "2.910933516248049",
         "2.9209083935247757",
         "0.49007177912478095"
        ],
        [
         "min",
         "6000.0",
         "20.0",
         "0.0",
         "0.0",
         "0.0",
         "0.0",
         "15.025898465763731",
         "0.0",
         "0.0009275775604256",
         "0.004088573101747",
         "0.0008852575670748",
         "4.004336024722673",
         "0.0",
         "0.0",
         "0.0",
         "0.0",
         "0.0",
         "90.0",
         "60.0",
         "70.07464912006355",
         "4.003088538729303",
         "0.500565227300702",
         "5.010400860660506",
         "150.05609361917152",
         "50.05825217167597",
         "20.01449412509352",
         "50.15464895017801",
         "0.0",
         "0.0",
         "0.0",
         "0.0",
         "0.0",
         "0.0",
         "0.0049766567160969",
         "0.0",
         "0.0",
         "0.0",
         "0.0023900012874222",
         "0.0",
         "0.0",
         "0.0",
         "0.0040134703333309",
         "0.0053837596735362",
         "0.0003622487692678",
         "0.0"
        ],
        [
         "25%",
         "6469.5",
         "38.0",
         "0.0",
         "0.0",
         "0.0",
         "1.0",
         "21.469980736145054",
         "0.0",
         "4.789725111917945",
         "2.7510223711437063",
         "2.4768017433166873",
         "5.48178912871877",
         "0.0",
         "0.0",
         "0.0",
         "0.0",
         "0.0",
         "112.0",
         "75.0",
         "102.34146988001967",
         "5.44385556540787",
         "1.6544723854048637",
         "17.172009137526096",
         "186.93305104698635",
         "87.81094585279368",
         "40.011962588722795",
         "140.87392996483345",
         "0.0",
         "0.0",
         "0.0",
         "0.0",
         "0.0",
         "0.0",
         "2.417748123489517",
         "0.0",
         "0.0",
         "0.0",
         "23.97409768063242",
         "0.0",
         "0.0",
         "0.0",
         "1.0578014877864168",
         "2.4200236864619455",
         "2.4101126909182273",
         "0.0"
        ],
        [
         "50%",
         "6939.0",
         "55.0",
         "0.0",
         "0.0",
         "1.0",
         "2.0",
         "27.722987558367144",
         "0.0",
         "10.173864704126434",
         "5.249002455304558",
         "4.888565866118478",
         "7.094692164078124",
         "0.0",
         "0.0",
         "0.0",
         "0.0",
         "0.0",
         "134.0",
         "90.0",
         "137.39824068885147",
         "7.09573209190341",
         "2.855105089271423",
         "28.190146986414845",
         "225.1201116279477",
         "124.91802315443071",
         "60.45698771189518",
         "228.4174289867676",
         "0.0",
         "0.0",
         "0.0",
         "0.0",
         "0.0",
         "0.0",
         "4.851914331289917",
         "0.0",
         "0.0",
         "0.0",
         "47.51969339290317",
         "0.0",
         "0.0",
         "0.0",
         "1.987169923339076",
         "4.8438858442576125",
         "5.035208097961784",
         "0.0"
        ],
        [
         "75%",
         "7408.5",
         "73.0",
         "1.0",
         "1.0",
         "2.0",
         "2.0",
         "33.856459533415546",
         "1.0",
         "15.28535912632962",
         "7.671401873036793",
         "7.356057987532255",
         "8.523813892476834",
         "0.0",
         "0.0",
         "0.0",
         "0.0",
         "0.0",
         "156.0",
         "105.0",
         "167.3623623734461",
         "8.423211305647452",
         "3.898132544377763",
         "38.50629862582079",
         "263.52942371965446",
         "161.62444370085424",
         "80.05911220639571",
         "313.40894417640243",
         "1.0",
         "1.0",
         "1.0",
         "0.0",
         "0.0",
         "0.0",
         "7.5697723645368065",
         "0.0",
         "0.0",
         "0.0",
         "72.88317864940021",
         "0.0",
         "0.0",
         "0.0",
         "2.946018521857728",
         "7.5139332273295345",
         "7.58686466008369",
         "1.0"
        ],
        [
         "max",
         "7878.0",
         "90.0",
         "1.0",
         "3.0",
         "2.0",
         "3.0",
         "39.99881065727365",
         "1.0",
         "19.99623115398905",
         "9.99389342623643",
         "9.99867743633463",
         "9.989372078498471",
         "1.0",
         "1.0",
         "1.0",
         "1.0",
         "1.0",
         "179.0",
         "119.0",
         "199.93550574521825",
         "9.991192668389376",
         "4.993973737951473",
         "49.9757282001984",
         "299.99848006216087",
         "199.89873241118545",
         "99.95839350964916",
         "399.8859275432402",
         "1.0",
         "1.0",
         "1.0",
         "1.0",
         "1.0",
         "1.0",
         "9.999979333013556",
         "1.0",
         "1.0",
         "1.0",
         "99.78853005449272",
         "1.0",
         "1.0",
         "1.0",
         "3.999714985055156",
         "9.997164754414314",
         "9.993029038003792",
         "1.0"
        ]
       ],
       "shape": {
        "columns": 45,
        "rows": 8
       }
      },
      "text/html": [
       "<div>\n",
       "<style scoped>\n",
       "    .dataframe tbody tr th:only-of-type {\n",
       "        vertical-align: middle;\n",
       "    }\n",
       "\n",
       "    .dataframe tbody tr th {\n",
       "        vertical-align: top;\n",
       "    }\n",
       "\n",
       "    .dataframe thead th {\n",
       "        text-align: right;\n",
       "    }\n",
       "</style>\n",
       "<table border=\"1\" class=\"dataframe\">\n",
       "  <thead>\n",
       "    <tr style=\"text-align: right;\">\n",
       "      <th></th>\n",
       "      <th>PatientID</th>\n",
       "      <th>Age</th>\n",
       "      <th>Gender</th>\n",
       "      <th>Ethnicity</th>\n",
       "      <th>SocioeconomicStatus</th>\n",
       "      <th>EducationLevel</th>\n",
       "      <th>BMI</th>\n",
       "      <th>Smoking</th>\n",
       "      <th>AlcoholConsumption</th>\n",
       "      <th>PhysicalActivity</th>\n",
       "      <th>...</th>\n",
       "      <th>SlowHealingSores</th>\n",
       "      <th>TinglingHandsFeet</th>\n",
       "      <th>QualityOfLifeScore</th>\n",
       "      <th>HeavyMetalsExposure</th>\n",
       "      <th>OccupationalExposureChemicals</th>\n",
       "      <th>WaterQuality</th>\n",
       "      <th>MedicalCheckupsFrequency</th>\n",
       "      <th>MedicationAdherence</th>\n",
       "      <th>HealthLiteracy</th>\n",
       "      <th>Diagnosis</th>\n",
       "    </tr>\n",
       "  </thead>\n",
       "  <tbody>\n",
       "    <tr>\n",
       "      <th>count</th>\n",
       "      <td>1879.000000</td>\n",
       "      <td>1879.000000</td>\n",
       "      <td>1879.000000</td>\n",
       "      <td>1879.000000</td>\n",
       "      <td>1879.000000</td>\n",
       "      <td>1879.000000</td>\n",
       "      <td>1879.000000</td>\n",
       "      <td>1879.000000</td>\n",
       "      <td>1879.000000</td>\n",
       "      <td>1879.000000</td>\n",
       "      <td>...</td>\n",
       "      <td>1879.000000</td>\n",
       "      <td>1879.000000</td>\n",
       "      <td>1879.000000</td>\n",
       "      <td>1879.000000</td>\n",
       "      <td>1879.000000</td>\n",
       "      <td>1879.000000</td>\n",
       "      <td>1879.000000</td>\n",
       "      <td>1879.000000</td>\n",
       "      <td>1879.000000</td>\n",
       "      <td>1879.000000</td>\n",
       "    </tr>\n",
       "    <tr>\n",
       "      <th>mean</th>\n",
       "      <td>6939.000000</td>\n",
       "      <td>55.043108</td>\n",
       "      <td>0.487493</td>\n",
       "      <td>0.755721</td>\n",
       "      <td>0.992017</td>\n",
       "      <td>1.699308</td>\n",
       "      <td>27.687601</td>\n",
       "      <td>0.281533</td>\n",
       "      <td>10.096587</td>\n",
       "      <td>5.200790</td>\n",
       "      <td>...</td>\n",
       "      <td>0.102714</td>\n",
       "      <td>0.111229</td>\n",
       "      <td>48.508643</td>\n",
       "      <td>0.052155</td>\n",
       "      <td>0.103246</td>\n",
       "      <td>0.200639</td>\n",
       "      <td>1.997101</td>\n",
       "      <td>4.957539</td>\n",
       "      <td>5.011736</td>\n",
       "      <td>0.400213</td>\n",
       "    </tr>\n",
       "    <tr>\n",
       "      <th>std</th>\n",
       "      <td>542.564896</td>\n",
       "      <td>20.515839</td>\n",
       "      <td>0.499977</td>\n",
       "      <td>1.047558</td>\n",
       "      <td>0.764940</td>\n",
       "      <td>0.885665</td>\n",
       "      <td>7.190975</td>\n",
       "      <td>0.449866</td>\n",
       "      <td>5.914216</td>\n",
       "      <td>2.857012</td>\n",
       "      <td>...</td>\n",
       "      <td>0.303666</td>\n",
       "      <td>0.314500</td>\n",
       "      <td>28.758488</td>\n",
       "      <td>0.222400</td>\n",
       "      <td>0.304361</td>\n",
       "      <td>0.400585</td>\n",
       "      <td>1.122632</td>\n",
       "      <td>2.910934</td>\n",
       "      <td>2.920908</td>\n",
       "      <td>0.490072</td>\n",
       "    </tr>\n",
       "    <tr>\n",
       "      <th>min</th>\n",
       "      <td>6000.000000</td>\n",
       "      <td>20.000000</td>\n",
       "      <td>0.000000</td>\n",
       "      <td>0.000000</td>\n",
       "      <td>0.000000</td>\n",
       "      <td>0.000000</td>\n",
       "      <td>15.025898</td>\n",
       "      <td>0.000000</td>\n",
       "      <td>0.000928</td>\n",
       "      <td>0.004089</td>\n",
       "      <td>...</td>\n",
       "      <td>0.000000</td>\n",
       "      <td>0.000000</td>\n",
       "      <td>0.002390</td>\n",
       "      <td>0.000000</td>\n",
       "      <td>0.000000</td>\n",
       "      <td>0.000000</td>\n",
       "      <td>0.004013</td>\n",
       "      <td>0.005384</td>\n",
       "      <td>0.000362</td>\n",
       "      <td>0.000000</td>\n",
       "    </tr>\n",
       "    <tr>\n",
       "      <th>25%</th>\n",
       "      <td>6469.500000</td>\n",
       "      <td>38.000000</td>\n",
       "      <td>0.000000</td>\n",
       "      <td>0.000000</td>\n",
       "      <td>0.000000</td>\n",
       "      <td>1.000000</td>\n",
       "      <td>21.469981</td>\n",
       "      <td>0.000000</td>\n",
       "      <td>4.789725</td>\n",
       "      <td>2.751022</td>\n",
       "      <td>...</td>\n",
       "      <td>0.000000</td>\n",
       "      <td>0.000000</td>\n",
       "      <td>23.974098</td>\n",
       "      <td>0.000000</td>\n",
       "      <td>0.000000</td>\n",
       "      <td>0.000000</td>\n",
       "      <td>1.057801</td>\n",
       "      <td>2.420024</td>\n",
       "      <td>2.410113</td>\n",
       "      <td>0.000000</td>\n",
       "    </tr>\n",
       "    <tr>\n",
       "      <th>50%</th>\n",
       "      <td>6939.000000</td>\n",
       "      <td>55.000000</td>\n",
       "      <td>0.000000</td>\n",
       "      <td>0.000000</td>\n",
       "      <td>1.000000</td>\n",
       "      <td>2.000000</td>\n",
       "      <td>27.722988</td>\n",
       "      <td>0.000000</td>\n",
       "      <td>10.173865</td>\n",
       "      <td>5.249002</td>\n",
       "      <td>...</td>\n",
       "      <td>0.000000</td>\n",
       "      <td>0.000000</td>\n",
       "      <td>47.519693</td>\n",
       "      <td>0.000000</td>\n",
       "      <td>0.000000</td>\n",
       "      <td>0.000000</td>\n",
       "      <td>1.987170</td>\n",
       "      <td>4.843886</td>\n",
       "      <td>5.035208</td>\n",
       "      <td>0.000000</td>\n",
       "    </tr>\n",
       "    <tr>\n",
       "      <th>75%</th>\n",
       "      <td>7408.500000</td>\n",
       "      <td>73.000000</td>\n",
       "      <td>1.000000</td>\n",
       "      <td>1.000000</td>\n",
       "      <td>2.000000</td>\n",
       "      <td>2.000000</td>\n",
       "      <td>33.856460</td>\n",
       "      <td>1.000000</td>\n",
       "      <td>15.285359</td>\n",
       "      <td>7.671402</td>\n",
       "      <td>...</td>\n",
       "      <td>0.000000</td>\n",
       "      <td>0.000000</td>\n",
       "      <td>72.883179</td>\n",
       "      <td>0.000000</td>\n",
       "      <td>0.000000</td>\n",
       "      <td>0.000000</td>\n",
       "      <td>2.946019</td>\n",
       "      <td>7.513933</td>\n",
       "      <td>7.586865</td>\n",
       "      <td>1.000000</td>\n",
       "    </tr>\n",
       "    <tr>\n",
       "      <th>max</th>\n",
       "      <td>7878.000000</td>\n",
       "      <td>90.000000</td>\n",
       "      <td>1.000000</td>\n",
       "      <td>3.000000</td>\n",
       "      <td>2.000000</td>\n",
       "      <td>3.000000</td>\n",
       "      <td>39.998811</td>\n",
       "      <td>1.000000</td>\n",
       "      <td>19.996231</td>\n",
       "      <td>9.993893</td>\n",
       "      <td>...</td>\n",
       "      <td>1.000000</td>\n",
       "      <td>1.000000</td>\n",
       "      <td>99.788530</td>\n",
       "      <td>1.000000</td>\n",
       "      <td>1.000000</td>\n",
       "      <td>1.000000</td>\n",
       "      <td>3.999715</td>\n",
       "      <td>9.997165</td>\n",
       "      <td>9.993029</td>\n",
       "      <td>1.000000</td>\n",
       "    </tr>\n",
       "  </tbody>\n",
       "</table>\n",
       "<p>8 rows × 45 columns</p>\n",
       "</div>"
      ],
      "text/plain": [
       "         PatientID          Age       Gender    Ethnicity  \\\n",
       "count  1879.000000  1879.000000  1879.000000  1879.000000   \n",
       "mean   6939.000000    55.043108     0.487493     0.755721   \n",
       "std     542.564896    20.515839     0.499977     1.047558   \n",
       "min    6000.000000    20.000000     0.000000     0.000000   \n",
       "25%    6469.500000    38.000000     0.000000     0.000000   \n",
       "50%    6939.000000    55.000000     0.000000     0.000000   \n",
       "75%    7408.500000    73.000000     1.000000     1.000000   \n",
       "max    7878.000000    90.000000     1.000000     3.000000   \n",
       "\n",
       "       SocioeconomicStatus  EducationLevel          BMI      Smoking  \\\n",
       "count          1879.000000     1879.000000  1879.000000  1879.000000   \n",
       "mean              0.992017        1.699308    27.687601     0.281533   \n",
       "std               0.764940        0.885665     7.190975     0.449866   \n",
       "min               0.000000        0.000000    15.025898     0.000000   \n",
       "25%               0.000000        1.000000    21.469981     0.000000   \n",
       "50%               1.000000        2.000000    27.722988     0.000000   \n",
       "75%               2.000000        2.000000    33.856460     1.000000   \n",
       "max               2.000000        3.000000    39.998811     1.000000   \n",
       "\n",
       "       AlcoholConsumption  PhysicalActivity  ...  SlowHealingSores  \\\n",
       "count         1879.000000       1879.000000  ...       1879.000000   \n",
       "mean            10.096587          5.200790  ...          0.102714   \n",
       "std              5.914216          2.857012  ...          0.303666   \n",
       "min              0.000928          0.004089  ...          0.000000   \n",
       "25%              4.789725          2.751022  ...          0.000000   \n",
       "50%             10.173865          5.249002  ...          0.000000   \n",
       "75%             15.285359          7.671402  ...          0.000000   \n",
       "max             19.996231          9.993893  ...          1.000000   \n",
       "\n",
       "       TinglingHandsFeet  QualityOfLifeScore  HeavyMetalsExposure  \\\n",
       "count        1879.000000         1879.000000          1879.000000   \n",
       "mean            0.111229           48.508643             0.052155   \n",
       "std             0.314500           28.758488             0.222400   \n",
       "min             0.000000            0.002390             0.000000   \n",
       "25%             0.000000           23.974098             0.000000   \n",
       "50%             0.000000           47.519693             0.000000   \n",
       "75%             0.000000           72.883179             0.000000   \n",
       "max             1.000000           99.788530             1.000000   \n",
       "\n",
       "       OccupationalExposureChemicals  WaterQuality  MedicalCheckupsFrequency  \\\n",
       "count                    1879.000000   1879.000000               1879.000000   \n",
       "mean                        0.103246      0.200639                  1.997101   \n",
       "std                         0.304361      0.400585                  1.122632   \n",
       "min                         0.000000      0.000000                  0.004013   \n",
       "25%                         0.000000      0.000000                  1.057801   \n",
       "50%                         0.000000      0.000000                  1.987170   \n",
       "75%                         0.000000      0.000000                  2.946019   \n",
       "max                         1.000000      1.000000                  3.999715   \n",
       "\n",
       "       MedicationAdherence  HealthLiteracy    Diagnosis  \n",
       "count          1879.000000     1879.000000  1879.000000  \n",
       "mean              4.957539        5.011736     0.400213  \n",
       "std               2.910934        2.920908     0.490072  \n",
       "min               0.005384        0.000362     0.000000  \n",
       "25%               2.420024        2.410113     0.000000  \n",
       "50%               4.843886        5.035208     0.000000  \n",
       "75%               7.513933        7.586865     1.000000  \n",
       "max               9.997165        9.993029     1.000000  \n",
       "\n",
       "[8 rows x 45 columns]"
      ]
     },
     "execution_count": 104,
     "metadata": {},
     "output_type": "execute_result"
    }
   ],
   "source": [
    "df.describe()"
   ]
  },
  {
   "cell_type": "markdown",
   "id": "1a6d9d61",
   "metadata": {},
   "source": [
    "#### Continuous Variables\n",
    "\n",
    "- **Age**\n",
    "- **BMI**\n",
    "- **AlcoholConsumption**\n",
    "- **PhysicalActivity**\n",
    "- **DietQuality**\n",
    "- **SleepQuality**\n",
    "- **SystolicBP**\n",
    "- **DiastolicBP**\n",
    "- **FastingBloodSugar**\n",
    "- **HbA1c**\n",
    "- **SerumCreatinine**\n",
    "- **BUNLevels**\n",
    "- **CholesterolTotal**\n",
    "- **CholesterolLDL**\n",
    "- **CholesterolHDL**\n",
    "- **CholesterolTriglycerides**\n",
    "- **FatigueLevels**\n",
    "- **QualityOfLifeScore**\n",
    "- **MedicalCheckupsFrequency**\n",
    "- **HealthLiteracy**\n",
    "- **MedicationAdherence** *(target)*\n",
    "\n",
    "---\n",
    "\n",
    "#### Discrete (Categorical/Binary) Variables\n",
    "\n",
    "- **Gender**\n",
    "- **Ethnicity**\n",
    "- **SocioeconomicStatus**\n",
    "- **EducationLevel**\n",
    "- **Smoking**\n",
    "- **FamilyHistoryDiabetes**\n",
    "- **GestationalDiabetes**\n",
    "- **PolycysticOvarySyndrome**\n",
    "- **PreviousPreDiabetes**\n",
    "- **Hypertension**\n",
    "- **AntihypertensiveMedications**\n",
    "- **Statins**\n",
    "- **AntidiabeticMedications**\n",
    "- **FrequentUrination**\n",
    "- **ExcessiveThirst**\n",
    "- **UnexplainedWeightLoss**\n",
    "- **BlurredVision**\n",
    "- **SlowHealingSores**\n",
    "- **TinglingHandsFeet**\n",
    "- **HeavyMetalsExposure**\n",
    "- **OccupationalExposureChemicals**\n",
    "- **WaterQuality**\n",
    "- **Diagnosis**\n"
   ]
  },
  {
   "cell_type": "markdown",
   "id": "0800a508",
   "metadata": {},
   "source": [
    "#### Given that medical adherence is our target variable, we will first make a distribution plot to see how it is distributed."
   ]
  },
  {
   "cell_type": "code",
   "execution_count": 105,
   "id": "2c9825c8",
   "metadata": {},
   "outputs": [
    {
     "data": {
      "image/png": "[encoded data removed]",
      "text/plain": [
       "<Figure size 640x480 with 1 Axes>"
      ]
     },
     "metadata": {},
     "output_type": "display_data"
    }
   ],
   "source": [
    "sns.histplot(df, x='MedicationAdherence', bins=20, kde=True)\n",
    "plt.title('Distribution of Medication Adherence')\n",
    "plt.xlabel('Medication Adherence')\n",
    "plt.ylabel('Frequency')\n",
    "plt.show()"
   ]
  },
  {
   "cell_type": "markdown",
   "id": "bd085bb1",
   "metadata": {},
   "source": [
    "#### In healthcare and the pharmaceutical industry, setting the adherence threshold at 5.0 out of 10 strikes a meaningful balance between clinical relevance and real-world actionability. Patients who score below this level are often considered at risk of not receiving the full benefit of their treatment, which can lead to worse health outcomes and higher healthcare costs. Companies like Eli Lilly, along with healthcare providers, focus heavily on identifying and supporting these patients early. By using a threshold of 5.0, we’re capturing those who show moderate or lower commitment to their medication regimen — the group most likely to benefit from targeted interventions like education, reminders, or personalized support. This approach mirrors how adherence is often handled in real-world disease management programs, making the model both practical and aligned with industry priorities."
   ]
  },
  {
   "cell_type": "code",
   "execution_count": 106,
   "id": "3c36f22f",
   "metadata": {},
   "outputs": [
    {
     "data": {
      "image/png": "[encoded data removed]",
      "text/plain": [
       "<Figure size 640x480 with 1 Axes>"
      ]
     },
     "metadata": {},
     "output_type": "display_data"
    }
   ],
   "source": [
    "def preprocess_adherence_data(df):\n",
    "    # Label adherence data into three groups of 0, 1, and 2\n",
    "    df['AdherenceGroup'] = pd.cut(df['MedicationAdherence'], bins=[0, 5, 10], labels=[1, 0])\n",
    "    # Drop the original MedicationAdherence column\n",
    "    df.drop(columns=['MedicationAdherence'], inplace=True)\n",
    "    return df\n",
    "df = preprocess_adherence_data(df)\n",
    "\n",
    "# Visualize the count of each adherence group\n",
    "sns.countplot(x='AdherenceGroup', data=df)\n",
    "plt.title('Count of Adherence Groups')\n",
    "plt.xlabel('Adherence Group')\n",
    "plt.ylabel('Count')\n",
    "plt.show()\n"
   ]
  },
  {
   "cell_type": "markdown",
   "id": "0aa8df71",
   "metadata": {},
   "source": [
    "#### We can see that there are multi categorical variables such as ethnicity. We can use one hot encoding to convert these categorical variables into numerical variables."
   ]
  },
  {
   "cell_type": "code",
   "execution_count": 107,
   "id": "b424e937",
   "metadata": {},
   "outputs": [
    {
     "name": "stdout",
     "output_type": "stream",
     "text": [
      "(1879, 48)\n"
     ]
    },
    {
     "data": {
      "application/vnd.microsoft.datawrangler.viewer.v0+json": {
       "columns": [
        {
         "name": "index",
         "rawType": "int64",
         "type": "integer"
        },
        {
         "name": "PatientID",
         "rawType": "int64",
         "type": "integer"
        },
        {
         "name": "Age",
         "rawType": "int64",
         "type": "integer"
        },
        {
         "name": "Gender",
         "rawType": "int64",
         "type": "integer"
        },
        {
         "name": "SocioeconomicStatus",
         "rawType": "int64",
         "type": "integer"
        },
        {
         "name": "EducationLevel",
         "rawType": "int64",
         "type": "integer"
        },
        {
         "name": "BMI",
         "rawType": "float64",
         "type": "float"
        },
        {
         "name": "Smoking",
         "rawType": "int64",
         "type": "integer"
        },
        {
         "name": "AlcoholConsumption",
         "rawType": "float64",
         "type": "float"
        },
        {
         "name": "PhysicalActivity",
         "rawType": "float64",
         "type": "float"
        },
        {
         "name": "DietQuality",
         "rawType": "float64",
         "type": "float"
        },
        {
         "name": "SleepQuality",
         "rawType": "float64",
         "type": "float"
        },
        {
         "name": "FamilyHistoryDiabetes",
         "rawType": "int64",
         "type": "integer"
        },
        {
         "name": "GestationalDiabetes",
         "rawType": "int64",
         "type": "integer"
        },
        {
         "name": "PolycysticOvarySyndrome",
         "rawType": "int64",
         "type": "integer"
        },
        {
         "name": "PreviousPreDiabetes",
         "rawType": "int64",
         "type": "integer"
        },
        {
         "name": "Hypertension",
         "rawType": "int64",
         "type": "integer"
        },
        {
         "name": "SystolicBP",
         "rawType": "int64",
         "type": "integer"
        },
        {
         "name": "DiastolicBP",
         "rawType": "int64",
         "type": "integer"
        },
        {
         "name": "FastingBloodSugar",
         "rawType": "float64",
         "type": "float"
        },
        {
         "name": "HbA1c",
         "rawType": "float64",
         "type": "float"
        },
        {
         "name": "SerumCreatinine",
         "rawType": "float64",
         "type": "float"
        },
        {
         "name": "BUNLevels",
         "rawType": "float64",
         "type": "float"
        },
        {
         "name": "CholesterolTotal",
         "rawType": "float64",
         "type": "float"
        },
        {
         "name": "CholesterolLDL",
         "rawType": "float64",
         "type": "float"
        },
        {
         "name": "CholesterolHDL",
         "rawType": "float64",
         "type": "float"
        },
        {
         "name": "CholesterolTriglycerides",
         "rawType": "float64",
         "type": "float"
        },
        {
         "name": "AntihypertensiveMedications",
         "rawType": "int64",
         "type": "integer"
        },
        {
         "name": "Statins",
         "rawType": "int64",
         "type": "integer"
        },
        {
         "name": "AntidiabeticMedications",
         "rawType": "int64",
         "type": "integer"
        },
        {
         "name": "FrequentUrination",
         "rawType": "int64",
         "type": "integer"
        },
        {
         "name": "ExcessiveThirst",
         "rawType": "int64",
         "type": "integer"
        },
        {
         "name": "UnexplainedWeightLoss",
         "rawType": "int64",
         "type": "integer"
        },
        {
         "name": "FatigueLevels",
         "rawType": "float64",
         "type": "float"
        },
        {
         "name": "BlurredVision",
         "rawType": "int64",
         "type": "integer"
        },
        {
         "name": "SlowHealingSores",
         "rawType": "int64",
         "type": "integer"
        },
        {
         "name": "TinglingHandsFeet",
         "rawType": "int64",
         "type": "integer"
        },
        {
         "name": "QualityOfLifeScore",
         "rawType": "float64",
         "type": "float"
        },
        {
         "name": "HeavyMetalsExposure",
         "rawType": "int64",
         "type": "integer"
        },
        {
         "name": "OccupationalExposureChemicals",
         "rawType": "int64",
         "type": "integer"
        },
        {
         "name": "WaterQuality",
         "rawType": "int64",
         "type": "integer"
        },
        {
         "name": "MedicalCheckupsFrequency",
         "rawType": "float64",
         "type": "float"
        },
        {
         "name": "HealthLiteracy",
         "rawType": "float64",
         "type": "float"
        },
        {
         "name": "Diagnosis",
         "rawType": "int64",
         "type": "integer"
        },
        {
         "name": "DoctorInCharge",
         "rawType": "object",
         "type": "string"
        },
        {
         "name": "AdherenceGroup",
         "rawType": "category",
         "type": "unknown"
        },
        {
         "name": "Ethnicity_1",
         "rawType": "bool",
         "type": "boolean"
        },
        {
         "name": "Ethnicity_2",
         "rawType": "bool",
         "type": "boolean"
        },
        {
         "name": "Ethnicity_3",
         "rawType": "bool",
         "type": "boolean"
        }
       ],
       "conversionMethod": "pd.DataFrame",
       "ref": "19a218dc-8717-4950-9d6d-c0d172416036",
       "rows": [
        [
         "0",
         "6000",
         "44",
         "0",
         "2",
         "1",
         "32.98528363147953",
         "1",
         "4.499364662559289",
         "2.443385277880059",
         "4.898831055237948",
         "4.049885278422252",
         "1",
         "1",
         "0",
         "0",
         "0",
         "93",
         "73",
         "163.68716215716134",
         "9.28363131656192",
         "2.665606678134762",
         "28.190146986414845",
         "254.2706704155173",
         "86.99362677931671",
         "70.80146907342441",
         "190.33583366129025",
         "0",
         "0",
         "1",
         "0",
         "0",
         "0",
         "9.534168794136852",
         "0",
         "0",
         "1",
         "73.7651091568668",
         "0",
         "0",
         "0",
         "1.7827242506960626",
         "7.2113489367727475",
         "1",
         "Confidential",
         "1",
         "True",
         "False",
         "False"
        ],
        [
         "1",
         "6001",
         "51",
         "1",
         "1",
         "2",
         "39.916764125880974",
         "0",
         "1.578919022031171",
         "8.301264419669659",
         "8.941093370790366",
         "7.508150416102007",
         "0",
         "0",
         "0",
         "0",
         "0",
         "165",
         "99",
         "188.3470703890969",
         "7.326870499343778",
         "4.172176747126118",
         "32.149490562754906",
         "155.3588312736898",
         "110.05610507002493",
         "39.90011154296137",
         "81.17246850968958",
         "0",
         "0",
         "0",
         "0",
         "0",
         "0",
         "0.1232139897112838",
         "0",
         "0",
         "0",
         "91.4457528301502",
         "0",
         "0",
         "1",
         "3.381069654567674",
         "5.024612227805186",
         "1",
         "Confidential",
         "0",
         "False",
         "False",
         "False"
        ],
        [
         "2",
         "6002",
         "89",
         "1",
         "1",
         "3",
         "19.78225130010097",
         "0",
         "1.1773011585548998",
         "6.103395048386896",
         "7.722543086655254",
         "7.708387493140089",
         "1",
         "0",
         "0",
         "0",
         "0",
         "119",
         "91",
         "127.70365327812354",
         "4.083425702071104",
         "1.9731681773438887",
         "10.018375268929027",
         "231.60892248874177",
         "62.03579285319309",
         "62.48066593039718",
         "279.8090694658932",
         "1",
         "1",
         "0",
         "0",
         "0",
         "0",
         "9.643320371692225",
         "0",
         "0",
         "0",
         "54.48574422190213",
         "0",
         "0",
         "0",
         "2.701018729497643",
         "7.0349436990025485",
         "0",
         "Confidential",
         "0",
         "False",
         "False",
         "False"
        ],
        [
         "3",
         "6003",
         "21",
         "1",
         "1",
         "2",
         "32.3768807915271",
         "1",
         "1.714621007745527",
         "8.64546518551969",
         "4.804044050369052",
         "6.286548306692199",
         "1",
         "1",
         "0",
         "1",
         "0",
         "169",
         "87",
         "82.68841547826207",
         "6.516644946433469",
         "3.05779650939076",
         "44.12328143227131",
         "176.59237417404873",
         "68.23840955194625",
         "46.97781927174319",
         "112.7513961357848",
         "0",
         "0",
         "1",
         "0",
         "0",
         "0",
         "3.4035568916649828",
         "0",
         "0",
         "0",
         "77.86675766406532",
         "0",
         "0",
         "1",
         "1.4090558394059216",
         "4.717774284423961",
         "0",
         "Confidential",
         "1",
         "True",
         "False",
         "False"
        ],
        [
         "4",
         "6004",
         "27",
         "1",
         "1",
         "3",
         "16.808600273405307",
         "0",
         "15.4625488312587",
         "4.62938308903732",
         "2.53275642106766",
         "9.771125231466325",
         "0",
         "0",
         "0",
         "0",
         "0",
         "165",
         "69",
         "90.7433946774801",
         "5.607221549641444",
         "4.150353490548432",
         "7.757116649582879",
         "157.34412134750147",
         "66.4762152267434",
         "40.05975475438986",
         "381.5287849725452",
         "1",
         "1",
         "0",
         "0",
         "0",
         "0",
         "2.924686837996183",
         "0",
         "0",
         "0",
         "37.731808014620825",
         "0",
         "0",
         "0",
         "1.218452269419564",
         "7.887940037735355",
         "0",
         "Confidential",
         "0",
         "False",
         "False",
         "False"
        ]
       ],
       "shape": {
        "columns": 48,
        "rows": 5
       }
      },
      "text/html": [
       "<div>\n",
       "<style scoped>\n",
       "    .dataframe tbody tr th:only-of-type {\n",
       "        vertical-align: middle;\n",
       "    }\n",
       "\n",
       "    .dataframe tbody tr th {\n",
       "        vertical-align: top;\n",
       "    }\n",
       "\n",
       "    .dataframe thead th {\n",
       "        text-align: right;\n",
       "    }\n",
       "</style>\n",
       "<table border=\"1\" class=\"dataframe\">\n",
       "  <thead>\n",
       "    <tr style=\"text-align: right;\">\n",
       "      <th></th>\n",
       "      <th>PatientID</th>\n",
       "      <th>Age</th>\n",
       "      <th>Gender</th>\n",
       "      <th>SocioeconomicStatus</th>\n",
       "      <th>EducationLevel</th>\n",
       "      <th>BMI</th>\n",
       "      <th>Smoking</th>\n",
       "      <th>AlcoholConsumption</th>\n",
       "      <th>PhysicalActivity</th>\n",
       "      <th>DietQuality</th>\n",
       "      <th>...</th>\n",
       "      <th>OccupationalExposureChemicals</th>\n",
       "      <th>WaterQuality</th>\n",
       "      <th>MedicalCheckupsFrequency</th>\n",
       "      <th>HealthLiteracy</th>\n",
       "      <th>Diagnosis</th>\n",
       "      <th>DoctorInCharge</th>\n",
       "      <th>AdherenceGroup</th>\n",
       "      <th>Ethnicity_1</th>\n",
       "      <th>Ethnicity_2</th>\n",
       "      <th>Ethnicity_3</th>\n",
       "    </tr>\n",
       "  </thead>\n",
       "  <tbody>\n",
       "    <tr>\n",
       "      <th>0</th>\n",
       "      <td>6000</td>\n",
       "      <td>44</td>\n",
       "      <td>0</td>\n",
       "      <td>2</td>\n",
       "      <td>1</td>\n",
       "      <td>32.985284</td>\n",
       "      <td>1</td>\n",
       "      <td>4.499365</td>\n",
       "      <td>2.443385</td>\n",
       "      <td>4.898831</td>\n",
       "      <td>...</td>\n",
       "      <td>0</td>\n",
       "      <td>0</td>\n",
       "      <td>1.782724</td>\n",
       "      <td>7.211349</td>\n",
       "      <td>1</td>\n",
       "      <td>Confidential</td>\n",
       "      <td>1</td>\n",
       "      <td>True</td>\n",
       "      <td>False</td>\n",
       "      <td>False</td>\n",
       "    </tr>\n",
       "    <tr>\n",
       "      <th>1</th>\n",
       "      <td>6001</td>\n",
       "      <td>51</td>\n",
       "      <td>1</td>\n",
       "      <td>1</td>\n",
       "      <td>2</td>\n",
       "      <td>39.916764</td>\n",
       "      <td>0</td>\n",
       "      <td>1.578919</td>\n",
       "      <td>8.301264</td>\n",
       "      <td>8.941093</td>\n",
       "      <td>...</td>\n",
       "      <td>0</td>\n",
       "      <td>1</td>\n",
       "      <td>3.381070</td>\n",
       "      <td>5.024612</td>\n",
       "      <td>1</td>\n",
       "      <td>Confidential</td>\n",
       "      <td>0</td>\n",
       "      <td>False</td>\n",
       "      <td>False</td>\n",
       "      <td>False</td>\n",
       "    </tr>\n",
       "    <tr>\n",
       "      <th>2</th>\n",
       "      <td>6002</td>\n",
       "      <td>89</td>\n",
       "      <td>1</td>\n",
       "      <td>1</td>\n",
       "      <td>3</td>\n",
       "      <td>19.782251</td>\n",
       "      <td>0</td>\n",
       "      <td>1.177301</td>\n",
       "      <td>6.103395</td>\n",
       "      <td>7.722543</td>\n",
       "      <td>...</td>\n",
       "      <td>0</td>\n",
       "      <td>0</td>\n",
       "      <td>2.701019</td>\n",
       "      <td>7.034944</td>\n",
       "      <td>0</td>\n",
       "      <td>Confidential</td>\n",
       "      <td>0</td>\n",
       "      <td>False</td>\n",
       "      <td>False</td>\n",
       "      <td>False</td>\n",
       "    </tr>\n",
       "    <tr>\n",
       "      <th>3</th>\n",
       "      <td>6003</td>\n",
       "      <td>21</td>\n",
       "      <td>1</td>\n",
       "      <td>1</td>\n",
       "      <td>2</td>\n",
       "      <td>32.376881</td>\n",
       "      <td>1</td>\n",
       "      <td>1.714621</td>\n",
       "      <td>8.645465</td>\n",
       "      <td>4.804044</td>\n",
       "      <td>...</td>\n",
       "      <td>0</td>\n",
       "      <td>1</td>\n",
       "      <td>1.409056</td>\n",
       "      <td>4.717774</td>\n",
       "      <td>0</td>\n",
       "      <td>Confidential</td>\n",
       "      <td>1</td>\n",
       "      <td>True</td>\n",
       "      <td>False</td>\n",
       "      <td>False</td>\n",
       "    </tr>\n",
       "    <tr>\n",
       "      <th>4</th>\n",
       "      <td>6004</td>\n",
       "      <td>27</td>\n",
       "      <td>1</td>\n",
       "      <td>1</td>\n",
       "      <td>3</td>\n",
       "      <td>16.808600</td>\n",
       "      <td>0</td>\n",
       "      <td>15.462549</td>\n",
       "      <td>4.629383</td>\n",
       "      <td>2.532756</td>\n",
       "      <td>...</td>\n",
       "      <td>0</td>\n",
       "      <td>0</td>\n",
       "      <td>1.218452</td>\n",
       "      <td>7.887940</td>\n",
       "      <td>0</td>\n",
       "      <td>Confidential</td>\n",
       "      <td>0</td>\n",
       "      <td>False</td>\n",
       "      <td>False</td>\n",
       "      <td>False</td>\n",
       "    </tr>\n",
       "  </tbody>\n",
       "</table>\n",
       "<p>5 rows × 48 columns</p>\n",
       "</div>"
      ],
      "text/plain": [
       "   PatientID  Age  Gender  SocioeconomicStatus  EducationLevel        BMI  \\\n",
       "0       6000   44       0                    2               1  32.985284   \n",
       "1       6001   51       1                    1               2  39.916764   \n",
       "2       6002   89       1                    1               3  19.782251   \n",
       "3       6003   21       1                    1               2  32.376881   \n",
       "4       6004   27       1                    1               3  16.808600   \n",
       "\n",
       "   Smoking  AlcoholConsumption  PhysicalActivity  DietQuality  ...  \\\n",
       "0        1            4.499365          2.443385     4.898831  ...   \n",
       "1        0            1.578919          8.301264     8.941093  ...   \n",
       "2        0            1.177301          6.103395     7.722543  ...   \n",
       "3        1            1.714621          8.645465     4.804044  ...   \n",
       "4        0           15.462549          4.629383     2.532756  ...   \n",
       "\n",
       "   OccupationalExposureChemicals  WaterQuality  MedicalCheckupsFrequency  \\\n",
       "0                              0             0                  1.782724   \n",
       "1                              0             1                  3.381070   \n",
       "2                              0             0                  2.701019   \n",
       "3                              0             1                  1.409056   \n",
       "4                              0             0                  1.218452   \n",
       "\n",
       "   HealthLiteracy  Diagnosis  DoctorInCharge  AdherenceGroup  Ethnicity_1  \\\n",
       "0        7.211349          1    Confidential               1         True   \n",
       "1        5.024612          1    Confidential               0        False   \n",
       "2        7.034944          0    Confidential               0        False   \n",
       "3        4.717774          0    Confidential               1         True   \n",
       "4        7.887940          0    Confidential               0        False   \n",
       "\n",
       "   Ethnicity_2  Ethnicity_3  \n",
       "0        False        False  \n",
       "1        False        False  \n",
       "2        False        False  \n",
       "3        False        False  \n",
       "4        False        False  \n",
       "\n",
       "[5 rows x 48 columns]"
      ]
     },
     "execution_count": 107,
     "metadata": {},
     "output_type": "execute_result"
    }
   ],
   "source": [
    "# List of multi-categorical variables to encode\n",
    "multi_categoricals = ['Ethnicity']\n",
    "\n",
    "# One-hot encode\n",
    "df = pd.get_dummies(df, columns=multi_categoricals, drop_first=True)\n",
    "\n",
    "print(df.shape)\n",
    "df.head()\n"
   ]
  },
  {
   "cell_type": "markdown",
   "id": "a73a97c7",
   "metadata": {},
   "source": [
    "#### Drop Useless Columns"
   ]
  },
  {
   "cell_type": "code",
   "execution_count": 108,
   "id": "3a75e5c4",
   "metadata": {},
   "outputs": [],
   "source": [
    "# Dropping PatientID and DoctorInCharge columns\n",
    "df.drop(columns=['PatientID', 'DoctorInCharge'], inplace=True)"
   ]
  },
  {
   "cell_type": "markdown",
   "id": "175b2918",
   "metadata": {},
   "source": [
    "#### Prevalence"
   ]
  },
  {
   "cell_type": "code",
   "execution_count": 109,
   "id": "fcfa77f2",
   "metadata": {},
   "outputs": [
    {
     "name": "stdout",
     "output_type": "stream",
     "text": [
      "AdherenceGroup\n",
      "1    0.515168\n",
      "0    0.484832\n",
      "Name: proportion, dtype: float64\n"
     ]
    }
   ],
   "source": [
    "# Check prevalence of each adherence group\n",
    "adherence_counts = df['AdherenceGroup'].value_counts(normalize=True)\n",
    "print(adherence_counts)"
   ]
  },
  {
   "cell_type": "markdown",
   "id": "97b5df43",
   "metadata": {},
   "source": [
    "#### Defining Features (X) and Target (y)"
   ]
  },
  {
   "cell_type": "code",
   "execution_count": 319,
   "id": "ca9a281e",
   "metadata": {},
   "outputs": [
    {
     "name": "stdout",
     "output_type": "stream",
     "text": [
      "Shape of X: (1879, 45)\n",
      "Shape of y: (1879,)\n"
     ]
    }
   ],
   "source": [
    "X = df.drop(columns=['AdherenceGroup'])\n",
    "y = df['AdherenceGroup'] \n",
    "\n",
    "print(f\"Shape of X: {X.shape}\")\n",
    "print(f\"Shape of y: {y.shape}\")"
   ]
  },
  {
   "cell_type": "markdown",
   "id": "0372c225",
   "metadata": {},
   "source": [
    "#### Train/Test Split"
   ]
  },
  {
   "cell_type": "code",
   "execution_count": 320,
   "id": "41096440",
   "metadata": {},
   "outputs": [
    {
     "name": "stdout",
     "output_type": "stream",
     "text": [
      "(1315, 45) (564, 45)\n",
      "AdherenceGroup\n",
      "1    0.514829\n",
      "0    0.485171\n",
      "Name: proportion, dtype: float64\n",
      "AdherenceGroup\n",
      "1    0.515957\n",
      "0    0.484043\n",
      "Name: proportion, dtype: float64\n"
     ]
    }
   ],
   "source": [
    "X_train, X_test, y_train, y_test = train_test_split(X, y, test_size=0.3, random_state=42, stratify=y)\n",
    "\n",
    "print(X_train.shape, X_test.shape)\n",
    "print(y_train.value_counts(normalize=True))\n",
    "print(y_test.value_counts(normalize=True))"
   ]
  },
  {
   "cell_type": "markdown",
   "id": "5cee8499",
   "metadata": {},
   "source": [
    "#### Print Max Features"
   ]
  },
  {
   "cell_type": "code",
   "execution_count": 321,
   "id": "0cded538",
   "metadata": {},
   "outputs": [
    {
     "name": "stdout",
     "output_type": "stream",
     "text": [
      "max_features = 6.708203932499369\n"
     ]
    }
   ],
   "source": [
    "import numpy as np\n",
    "print('max_features = ' + str(np.sqrt(X.shape[1]))) #around 6"
   ]
  },
  {
   "cell_type": "markdown",
   "id": "4b5c9051",
   "metadata": {},
   "source": [
    "#### Random Forest Model"
   ]
  },
  {
   "cell_type": "code",
   "execution_count": 322,
   "id": "fd2aa2b7",
   "metadata": {},
   "outputs": [],
   "source": [
    "RFC = RandomForestClassifier(\n",
    "    n_estimators=1000,             \n",
    "    max_features=6,          \n",
    "    bootstrap=True,\n",
    "    max_samples=0.8,      \n",
    "    max_depth=15,    \n",
    "    oob_score=True,\n",
    "    random_state=1984,\n",
    "    n_jobs=-1\n",
    ")\n",
    "\n",
    "adherence_rf = RFC.fit(X_train, y_train)"
   ]
  },
  {
   "cell_type": "markdown",
   "id": "91289be9",
   "metadata": {},
   "source": [
    "#### Model Evaluation"
   ]
  },
  {
   "cell_type": "code",
   "execution_count": 323,
   "id": "e6534280",
   "metadata": {},
   "outputs": [
    {
     "name": "stdout",
     "output_type": "stream",
     "text": [
      "Precision:  0.48967381557075357\n",
      "F1 Score:  0.4874077456712684\n",
      "Recall:  0.4929078014184397\n"
     ]
    }
   ],
   "source": [
    "# F1 score, Recall, Accuracy\n",
    "y_pred = adherence_rf.predict(X_test)\n",
    "print('Precision: ', precision_score(y_test, y_pred, average='weighted'))\n",
    "print('F1 Score: ', f1_score(y_test, y_pred, average='weighted'))\n",
    "print('Recall: ', recall_score(y_test, y_pred, average='weighted'))"
   ]
  },
  {
   "cell_type": "markdown",
   "id": "fc6e5882",
   "metadata": {},
   "source": [
    "#### OOB Error"
   ]
  },
  {
   "cell_type": "code",
   "execution_count": 324,
   "id": "76d71e06",
   "metadata": {},
   "outputs": [
    {
     "name": "stdout",
     "output_type": "stream",
     "text": [
      "OOB error rate: 0.4783269961977187\n"
     ]
    }
   ],
   "source": [
    "print('OOB error rate: ' + str(1 - adherence_rf.oob_score_))"
   ]
  },
  {
   "cell_type": "markdown",
   "id": "df8d12a4",
   "metadata": {},
   "source": [
    "#### Confusion Matrix for Train"
   ]
  },
  {
   "cell_type": "code",
   "execution_count": 325,
   "id": "c7d94538",
   "metadata": {},
   "outputs": [
    {
     "data": {
      "text/plain": [
       "<sklearn.metrics._plot.confusion_matrix.ConfusionMatrixDisplay at 0x7f1388ee1900>"
      ]
     },
     "execution_count": 325,
     "metadata": {},
     "output_type": "execute_result"
    },
    {
     "data": {
      "image/png": "[encoded data removed]",
      "text/plain": [
       "<Figure size 640x480 with 1 Axes>"
      ]
     },
     "metadata": {},
     "output_type": "display_data"
    }
   ],
   "source": [
    "from sklearn.metrics import ConfusionMatrixDisplay\n",
    "ConfusionMatrixDisplay.from_estimator(adherence_rf,X_train,y_train, colorbar= False)"
   ]
  },
  {
   "cell_type": "markdown",
   "id": "2b48c273",
   "metadata": {},
   "source": [
    "#### Confusion Matrix for Test"
   ]
  },
  {
   "cell_type": "code",
   "execution_count": 326,
   "id": "a7fa9a4d",
   "metadata": {},
   "outputs": [
    {
     "data": {
      "text/plain": [
       "<sklearn.metrics._plot.confusion_matrix.ConfusionMatrixDisplay at 0x7f138a616f80>"
      ]
     },
     "execution_count": 326,
     "metadata": {},
     "output_type": "execute_result"
    },
    {
     "data": {
      "image/png": "[encoded data removed]",
      "text/plain": [
       "<Figure size 640x480 with 1 Axes>"
      ]
     },
     "metadata": {},
     "output_type": "display_data"
    }
   ],
   "source": [
    "# Test data Confusion Matrix\n",
    "y_pred = adherence_rf.predict(X_test)\n",
    "ConfusionMatrixDisplay.from_estimator(adherence_rf,X_test,y_test, colorbar= False)"
   ]
  },
  {
   "cell_type": "markdown",
   "id": "e50fae8d",
   "metadata": {},
   "source": [
    "#### Binary Class Probability"
   ]
  },
  {
   "cell_type": "code",
   "execution_count": 287,
   "id": "2245e55d",
   "metadata": {},
   "outputs": [
    {
     "name": "stdout",
     "output_type": "stream",
     "text": [
      "Highest probability of being POSITIVE: row 140, prob = 0.6733\n",
      "Highest probability of being NEGATIVE: row 491, prob = 0.6379\n"
     ]
    }
   ],
   "source": [
    "probs = adherence_rf.predict_proba(X_test)\n",
    "\n",
    "# Row with highest positive class probability\n",
    "max_pos_idx = np.argmax(probs[:, 1])\n",
    "max_pos_prob = probs[max_pos_idx, 1]\n",
    "\n",
    "# Row with highest negative class probability\n",
    "max_neg_idx = np.argmax(probs[:, 0])\n",
    "max_neg_prob = probs[max_neg_idx, 0]\n",
    "\n",
    "print(f\"Highest probability of being POSITIVE: row {max_pos_idx}, prob = {max_pos_prob:.4f}\")\n",
    "print(f\"Highest probability of being NEGATIVE: row {max_neg_idx}, prob = {max_neg_prob:.4f}\")"
   ]
  },
  {
   "cell_type": "markdown",
   "id": "597a8095",
   "metadata": {},
   "source": [
    "#### Plotting the Distribution"
   ]
  },
  {
   "cell_type": "code",
   "execution_count": 288,
   "id": "cd0651ff",
   "metadata": {},
   "outputs": [
    {
     "name": "stderr",
     "output_type": "stream",
     "text": [
      "/tmp/ipykernel_36869/3451350458.py:2: FutureWarning: \n",
      "\n",
      "`shade` is now deprecated in favor of `fill`; setting `fill=True`.\n",
      "This will become an error in seaborn v0.14.0; please update your code.\n",
      "\n",
      "  sns.kdeplot(positive_class_probs, shade=True, color='blue')\n"
     ]
    },
    {
     "data": {
      "image/png": "[encoded data removed]",
      "text/plain": [
       "<Figure size 640x480 with 1 Axes>"
      ]
     },
     "metadata": {},
     "output_type": "display_data"
    }
   ],
   "source": [
    "positive_class_probs = adherence_rf.predict_proba(X_test)[:, 1]\n",
    "sns.kdeplot(positive_class_probs, shade=True, color='blue')\n",
    "\n",
    "plt.title('Density Plot of Positive Class Probabilities (Fully Adherent)')\n",
    "plt.xlabel('Probability of Being Fully Adherent')\n",
    "plt.ylabel('Density')\n",
    "plt.show()"
   ]
  },
  {
   "cell_type": "markdown",
   "id": "e3153591",
   "metadata": {},
   "source": [
    "#### Feature Importance Visualization"
   ]
  },
  {
   "cell_type": "code",
   "execution_count": 289,
   "id": "9c116639",
   "metadata": {},
   "outputs": [
    {
     "name": "stdout",
     "output_type": "stream",
     "text": [
      "                               importance\n",
      "CholesterolTriglycerides         0.055047\n",
      "QualityOfLifeScore               0.048673\n",
      "CholesterolHDL                   0.047317\n",
      "CholesterolLDL                   0.045975\n",
      "HbA1c                            0.045828\n",
      "DietQuality                      0.045811\n",
      "HealthLiteracy                   0.044062\n",
      "SleepQuality                     0.043386\n",
      "BUNLevels                        0.043014\n",
      "PhysicalActivity                 0.042945\n",
      "MedicalCheckupsFrequency         0.042872\n",
      "CholesterolTotal                 0.042722\n",
      "FastingBloodSugar                0.042199\n",
      "FatigueLevels                    0.041693\n",
      "BMI                              0.041040\n",
      "SerumCreatinine                  0.040556\n",
      "AlcoholConsumption               0.038522\n",
      "SystolicBP                       0.037779\n",
      "Age                              0.037373\n",
      "DiastolicBP                      0.036484\n",
      "EducationLevel                   0.014507\n",
      "Statins                          0.010480\n",
      "SocioeconomicStatus              0.010007\n",
      "Gender                           0.006265\n",
      "TinglingHandsFeet                0.006173\n",
      "AntihypertensiveMedications      0.006140\n",
      "AntidiabeticMedications          0.005916\n",
      "Smoking                          0.005570\n",
      "PreviousPreDiabetes              0.005426\n",
      "ExcessiveThirst                  0.005328\n",
      "Ethnicity_1                      0.005229\n",
      "FamilyHistoryDiabetes            0.005029\n",
      "UnexplainedWeightLoss            0.004992\n",
      "WaterQuality                     0.004915\n",
      "Diagnosis                        0.004703\n",
      "Hypertension                     0.004587\n",
      "FrequentUrination                0.004436\n",
      "Ethnicity_2                      0.003864\n",
      "GestationalDiabetes              0.003786\n",
      "BlurredVision                    0.003731\n",
      "OccupationalExposureChemicals    0.003521\n",
      "Ethnicity_3                      0.003480\n",
      "SlowHealingSores                 0.003474\n",
      "PolycysticOvarySyndrome          0.002617\n",
      "HeavyMetalsExposure              0.002524\n"
     ]
    }
   ],
   "source": [
    "print(pd.DataFrame(adherence_rf.feature_importances_,index = X.columns,columns=['importance']).sort_values('importance', ascending=False))"
   ]
  },
  {
   "cell_type": "code",
   "execution_count": 290,
   "id": "bb51cb60",
   "metadata": {},
   "outputs": [
    {
     "data": {
      "image/png": "[encoded data removed]",
      "text/plain": [
       "<Figure size 640x480 with 1 Axes>"
      ]
     },
     "metadata": {},
     "output_type": "display_data"
    }
   ],
   "source": [
    "importances = adherence_rf.feature_importances_\n",
    "std = np.std([tree.feature_importances_ for tree in adherence_rf.estimators_], axis=0)\n",
    "\n",
    "forest_importances = pd.Series(importances, index=X.columns)\n",
    "\n",
    "fig, ax = plt.subplots()\n",
    "forest_importances.plot.bar(yerr=std, ax=ax)\n",
    "ax.set_title(\"Feature importances using MDI\")\n",
    "ax.set_ylabel(\"Mean decrease in impurity\")\n",
    "fig.tight_layout()"
   ]
  },
  {
   "cell_type": "markdown",
   "id": "d4a9688e",
   "metadata": {},
   "source": [
    "#### Dropping Unimportant Features from Feature Importance"
   ]
  },
  {
   "cell_type": "code",
   "execution_count": 291,
   "id": "8a1148d9",
   "metadata": {},
   "outputs": [
    {
     "name": "stdout",
     "output_type": "stream",
     "text": [
      "X_train shape: (1315, 23)\n",
      "X_test shape: (564, 23)\n"
     ]
    }
   ],
   "source": [
    "# Removing low importance features from X_train\n",
    "low_importance_features = forest_importances[forest_importances < 0.01].index\n",
    "X_train2 = X_train.drop(columns=low_importance_features)\n",
    "X_test2 = X_test.drop(columns=low_importance_features)\n",
    "print(f\"X_train shape: {X_train2.shape}\")\n",
    "print(f\"X_test shape: {X_test2.shape}\")"
   ]
  },
  {
   "cell_type": "markdown",
   "id": "693dcbaa",
   "metadata": {},
   "source": [
    "#### Gridsearch"
   ]
  },
  {
   "cell_type": "code",
   "execution_count": 292,
   "id": "c8ecd957",
   "metadata": {},
   "outputs": [
    {
     "name": "stdout",
     "output_type": "stream",
     "text": [
      "Fitting 3 folds for each of 12 candidates, totalling 36 fits\n",
      "[CV] END .......................max_depth=5, max_samples=0.3; total time=   2.3s\n",
      "[CV] END .......................max_depth=5, max_samples=0.3; total time=   2.4s\n",
      "[CV] END .......................max_depth=5, max_samples=0.3; total time=   2.6s\n",
      "[CV] END .......................max_depth=5, max_samples=0.5; total time=   2.6s\n",
      "[CV] END .......................max_depth=5, max_samples=0.5; total time=   2.6s\n",
      "[CV] END ......................max_depth=10, max_samples=0.3; total time=   2.5s\n",
      "[CV] END .......................max_depth=5, max_samples=0.5; total time=   2.6s\n",
      "[CV] END ......................max_depth=10, max_samples=0.3; total time=   2.6s\n",
      "[CV] END .......................max_depth=5, max_samples=0.8; total time=   2.7s\n",
      "[CV] END ......................max_depth=10, max_samples=0.3; total time=   2.6s\n",
      "[CV] END .......................max_depth=5, max_samples=0.8; total time=   2.8s\n",
      "[CV] END .......................max_depth=5, max_samples=0.8; total time=   2.9s\n",
      "[CV] END ......................max_depth=10, max_samples=0.5; total time=   2.9s\n",
      "[CV] END ......................max_depth=15, max_samples=0.3; total time=   2.9s\n",
      "[CV] END ......................max_depth=10, max_samples=0.5; total time=   3.2s\n",
      "[CV] END ......................max_depth=15, max_samples=0.3; total time=   2.8s\n",
      "[CV] END ......................max_depth=10, max_samples=0.5; total time=   3.4s\n",
      "[CV] END ......................max_depth=10, max_samples=0.8; total time=   3.5s\n",
      "[CV] END ......................max_depth=15, max_samples=0.3; total time=   3.4s\n",
      "[CV] END ......................max_depth=10, max_samples=0.8; total time=   3.7s\n",
      "[CV] END ......................max_depth=10, max_samples=0.8; total time=   3.9s\n",
      "[CV] END ......................max_depth=15, max_samples=0.5; total time=   3.7s\n",
      "[CV] END ......................max_depth=15, max_samples=0.5; total time=   3.9s\n",
      "[CV] END ......................max_depth=15, max_samples=0.5; total time=   4.0s\n",
      "[CV] END ....................max_depth=None, max_samples=0.3; total time=   3.5s\n",
      "[CV] END ....................max_depth=None, max_samples=0.3; total time=   3.5s\n",
      "[CV] END ......................max_depth=15, max_samples=0.8; total time=   4.6s\n",
      "[CV] END ....................max_depth=None, max_samples=0.3; total time=   3.7s\n",
      "[CV] END ......................max_depth=15, max_samples=0.8; total time=   4.3s\n",
      "[CV] END ......................max_depth=15, max_samples=0.8; total time=   4.4s\n",
      "[CV] END ....................max_depth=None, max_samples=0.5; total time=   4.0s\n",
      "[CV] END ....................max_depth=None, max_samples=0.5; total time=   3.7s\n",
      "[CV] END ....................max_depth=None, max_samples=0.5; total time=   4.2s\n",
      "[CV] END ....................max_depth=None, max_samples=0.8; total time=   4.0s\n",
      "[CV] END ....................max_depth=None, max_samples=0.8; total time=   3.9s\n",
      "[CV] END ....................max_depth=None, max_samples=0.8; total time=   4.0s\n",
      "Best parameters found:  {'max_depth': 5, 'max_samples': 0.8}\n",
      "Best cross-validation score:  0.5224138176860779\n"
     ]
    }
   ],
   "source": [
    "# Grid Search for hyperparameter tuning\n",
    "param_grid = {\n",
    "    'max_samples': [0.3, 0.5, 0.8],\n",
    "    'max_depth': [5, 10, 15, None],\n",
    "}\n",
    "\n",
    "grid_search = GridSearchCV(\n",
    "    estimator=RandomForestClassifier(\n",
    "        n_estimators=500,\n",
    "        max_features=6,\n",
    "        bootstrap=True,\n",
    "        max_depth=None,\n",
    "        oob_score=True,\n",
    "        random_state=1984,\n",
    "        n_jobs=-1\n",
    "    ),\n",
    "    param_grid=param_grid,\n",
    "    scoring='f1_weighted',\n",
    "    cv=3,\n",
    "    verbose=2,\n",
    "    n_jobs=-1\n",
    ")\n",
    "grid_search.fit(X_train2, y_train)\n",
    "print(\"Best parameters found: \", grid_search.best_params_)\n",
    "print(\"Best cross-validation score: \", grid_search.best_score_)"
   ]
  },
  {
   "cell_type": "markdown",
   "id": "64bda47d",
   "metadata": {},
   "source": [
    "#### Finding Best n for Trees"
   ]
  },
  {
   "cell_type": "code",
   "execution_count": 297,
   "id": "f1a06f1b",
   "metadata": {},
   "outputs": [
    {
     "data": {
      "text/plain": [
       "[RandomForestClassifier(max_depth=5, max_features=6, max_samples=0.8, n_jobs=-1,\n",
       "                        oob_score=True, random_state=1984),\n",
       " RandomForestClassifier(max_depth=5, max_features=6, max_samples=0.8,\n",
       "                        n_estimators=200, n_jobs=-1, oob_score=True,\n",
       "                        random_state=1984),\n",
       " RandomForestClassifier(max_depth=5, max_features=6, max_samples=0.8,\n",
       "                        n_estimators=300, n_jobs=-1, oob_score=True,\n",
       "                        random_state=1984)]"
      ]
     },
     "execution_count": 297,
     "metadata": {},
     "output_type": "execute_result"
    }
   ],
   "source": [
    "n_estimators_list = [100,200,300,400,500,600,700,800,900,1000]\n",
    "forest_list = [RandomForestClassifier(n_estimators = n,\n",
    "        max_features=6,          \n",
    "        bootstrap=True,\n",
    "        max_samples=0.8,      \n",
    "        max_depth=5,\n",
    "        oob_score=True,\n",
    "        random_state=1984,\n",
    "        n_jobs=-1).fit(X_train2, y_train) for n in n_estimators_list]\n",
    "\n",
    "forest_list[:3]"
   ]
  },
  {
   "cell_type": "code",
   "execution_count": 298,
   "id": "c1b27ba5",
   "metadata": {},
   "outputs": [
    {
     "data": {
      "image/png": "[encoded data removed]",
      "text/plain": [
       "<Figure size 640x480 with 1 Axes>"
      ]
     },
     "metadata": {},
     "output_type": "display_data"
    }
   ],
   "source": [
    "oob_errors = ([1-i.oob_score_ for i in forest_list])\n",
    "plt.plot(n_estimators_list,oob_errors)\n",
    "plt.title('Out Of Bag Error Against Number of Trees')\n",
    "plt.xlabel('Number of Trees')\n",
    "plt.ylabel('Out of Bag Error')\n",
    "plt.show()"
   ]
  },
  {
   "cell_type": "markdown",
   "id": "a74fabe0",
   "metadata": {},
   "source": [
    "#### Finding Best Max for Features"
   ]
  },
  {
   "cell_type": "code",
   "execution_count": 299,
   "id": "b7bd766d",
   "metadata": {},
   "outputs": [
    {
     "data": {
      "text/plain": [
       "[RandomForestClassifier(max_depth=5, max_features=1, max_samples=0.8,\n",
       "                        n_estimators=800, n_jobs=-1, oob_score=True,\n",
       "                        random_state=1984),\n",
       " RandomForestClassifier(max_depth=5, max_features=2, max_samples=0.8,\n",
       "                        n_estimators=800, n_jobs=-1, oob_score=True,\n",
       "                        random_state=1984),\n",
       " RandomForestClassifier(max_depth=5, max_features=3, max_samples=0.8,\n",
       "                        n_estimators=800, n_jobs=-1, oob_score=True,\n",
       "                        random_state=1984)]"
      ]
     },
     "execution_count": 299,
     "metadata": {},
     "output_type": "execute_result"
    }
   ],
   "source": [
    "max_features_list = [1,2,3,4,5,6,7]\n",
    "\n",
    "forest_list2 = [RandomForestClassifier(\n",
    "        n_estimators = 800,\n",
    "        max_features=n,          \n",
    "        bootstrap=True,\n",
    "        max_samples=0.8,      \n",
    "        max_depth=5,   \n",
    "        oob_score=True,\n",
    "        random_state=1984,\n",
    "        n_jobs=-1).fit(X_train2, y_train) for n in max_features_list]\n",
    "forest_list2[:3]"
   ]
  },
  {
   "cell_type": "code",
   "execution_count": 300,
   "id": "5fd296ff",
   "metadata": {},
   "outputs": [
    {
     "data": {
      "image/png": "[encoded data removed]",
      "text/plain": [
       "<Figure size 640x480 with 1 Axes>"
      ]
     },
     "metadata": {},
     "output_type": "display_data"
    }
   ],
   "source": [
    "oob_errors1 = ([1-i.oob_score_ for i in forest_list2])\n",
    "plt.plot(max_features_list,oob_errors1)\n",
    "plt.title('Out Of Bag Error Against Max features')\n",
    "plt.xlabel('max_features_list')\n",
    "plt.ylabel('Out of Bag Error')\n",
    "plt.show()"
   ]
  },
  {
   "cell_type": "markdown",
   "id": "2bda018d",
   "metadata": {},
   "source": [
    "#### Best Model"
   ]
  },
  {
   "cell_type": "code",
   "execution_count": 301,
   "id": "ae1b6a34",
   "metadata": {},
   "outputs": [
    {
     "data": {
      "text/html": [
       "<style>#sk-container-id-11 {\n",
       "  /* Definition of color scheme common for light and dark mode */\n",
       "  --sklearn-color-text: #000;\n",
       "  --sklearn-color-text-muted: #666;\n",
       "  --sklearn-color-line: gray;\n",
       "  /* Definition of color scheme for unfitted estimators */\n",
       "  --sklearn-color-unfitted-level-0: #fff5e6;\n",
       "  --sklearn-color-unfitted-level-1: #f6e4d2;\n",
       "  --sklearn-color-unfitted-level-2: #ffe0b3;\n",
       "  --sklearn-color-unfitted-level-3: chocolate;\n",
       "  /* Definition of color scheme for fitted estimators */\n",
       "  --sklearn-color-fitted-level-0: #f0f8ff;\n",
       "  --sklearn-color-fitted-level-1: #d4ebff;\n",
       "  --sklearn-color-fitted-level-2: #b3dbfd;\n",
       "  --sklearn-color-fitted-level-3: cornflowerblue;\n",
       "\n",
       "  /* Specific color for light theme */\n",
       "  --sklearn-color-text-on-default-background: var(--sg-text-color, var(--theme-code-foreground, var(--jp-content-font-color1, black)));\n",
       "  --sklearn-color-background: var(--sg-background-color, var(--theme-background, var(--jp-layout-color0, white)));\n",
       "  --sklearn-color-border-box: var(--sg-text-color, var(--theme-code-foreground, var(--jp-content-font-color1, black)));\n",
       "  --sklearn-color-icon: #696969;\n",
       "\n",
       "  @media (prefers-color-scheme: dark) {\n",
       "    /* Redefinition of color scheme for dark theme */\n",
       "    --sklearn-color-text-on-default-background: var(--sg-text-color, var(--theme-code-foreground, var(--jp-content-font-color1, white)));\n",
       "    --sklearn-color-background: var(--sg-background-color, var(--theme-background, var(--jp-layout-color0, #111)));\n",
       "    --sklearn-color-border-box: var(--sg-text-color, var(--theme-code-foreground, var(--jp-content-font-color1, white)));\n",
       "    --sklearn-color-icon: #878787;\n",
       "  }\n",
       "}\n",
       "\n",
       "#sk-container-id-11 {\n",
       "  color: var(--sklearn-color-text);\n",
       "}\n",
       "\n",
       "#sk-container-id-11 pre {\n",
       "  padding: 0;\n",
       "}\n",
       "\n",
       "#sk-container-id-11 input.sk-hidden--visually {\n",
       "  border: 0;\n",
       "  clip: rect(1px 1px 1px 1px);\n",
       "  clip: rect(1px, 1px, 1px, 1px);\n",
       "  height: 1px;\n",
       "  margin: -1px;\n",
       "  overflow: hidden;\n",
       "  padding: 0;\n",
       "  position: absolute;\n",
       "  width: 1px;\n",
       "}\n",
       "\n",
       "#sk-container-id-11 div.sk-dashed-wrapped {\n",
       "  border: 1px dashed var(--sklearn-color-line);\n",
       "  margin: 0 0.4em 0.5em 0.4em;\n",
       "  box-sizing: border-box;\n",
       "  padding-bottom: 0.4em;\n",
       "  background-color: var(--sklearn-color-background);\n",
       "}\n",
       "\n",
       "#sk-container-id-11 div.sk-container {\n",
       "  /* jupyter's `normalize.less` sets `[hidden] { display: none; }`\n",
       "     but bootstrap.min.css set `[hidden] { display: none !important; }`\n",
       "     so we also need the `!important` here to be able to override the\n",
       "     default hidden behavior on the sphinx rendered scikit-learn.org.\n",
       "     See: https://github.com/scikit-learn/scikit-learn/issues/21755 */\n",
       "  display: inline-block !important;\n",
       "  position: relative;\n",
       "}\n",
       "\n",
       "#sk-container-id-11 div.sk-text-repr-fallback {\n",
       "  display: none;\n",
       "}\n",
       "\n",
       "div.sk-parallel-item,\n",
       "div.sk-serial,\n",
       "div.sk-item {\n",
       "  /* draw centered vertical line to link estimators */\n",
       "  background-image: linear-gradient(var(--sklearn-color-text-on-default-background), var(--sklearn-color-text-on-default-background));\n",
       "  background-size: 2px 100%;\n",
       "  background-repeat: no-repeat;\n",
       "  background-position: center center;\n",
       "}\n",
       "\n",
       "/* Parallel-specific style estimator block */\n",
       "\n",
       "#sk-container-id-11 div.sk-parallel-item::after {\n",
       "  content: \"\";\n",
       "  width: 100%;\n",
       "  border-bottom: 2px solid var(--sklearn-color-text-on-default-background);\n",
       "  flex-grow: 1;\n",
       "}\n",
       "\n",
       "#sk-container-id-11 div.sk-parallel {\n",
       "  display: flex;\n",
       "  align-items: stretch;\n",
       "  justify-content: center;\n",
       "  background-color: var(--sklearn-color-background);\n",
       "  position: relative;\n",
       "}\n",
       "\n",
       "#sk-container-id-11 div.sk-parallel-item {\n",
       "  display: flex;\n",
       "  flex-direction: column;\n",
       "}\n",
       "\n",
       "#sk-container-id-11 div.sk-parallel-item:first-child::after {\n",
       "  align-self: flex-end;\n",
       "  width: 50%;\n",
       "}\n",
       "\n",
       "#sk-container-id-11 div.sk-parallel-item:last-child::after {\n",
       "  align-self: flex-start;\n",
       "  width: 50%;\n",
       "}\n",
       "\n",
       "#sk-container-id-11 div.sk-parallel-item:only-child::after {\n",
       "  width: 0;\n",
       "}\n",
       "\n",
       "/* Serial-specific style estimator block */\n",
       "\n",
       "#sk-container-id-11 div.sk-serial {\n",
       "  display: flex;\n",
       "  flex-direction: column;\n",
       "  align-items: center;\n",
       "  background-color: var(--sklearn-color-background);\n",
       "  padding-right: 1em;\n",
       "  padding-left: 1em;\n",
       "}\n",
       "\n",
       "\n",
       "/* Toggleable style: style used for estimator/Pipeline/ColumnTransformer box that is\n",
       "clickable and can be expanded/collapsed.\n",
       "- Pipeline and ColumnTransformer use this feature and define the default style\n",
       "- Estimators will overwrite some part of the style using the `sk-estimator` class\n",
       "*/\n",
       "\n",
       "/* Pipeline and ColumnTransformer style (default) */\n",
       "\n",
       "#sk-container-id-11 div.sk-toggleable {\n",
       "  /* Default theme specific background. It is overwritten whether we have a\n",
       "  specific estimator or a Pipeline/ColumnTransformer */\n",
       "  background-color: var(--sklearn-color-background);\n",
       "}\n",
       "\n",
       "/* Toggleable label */\n",
       "#sk-container-id-11 label.sk-toggleable__label {\n",
       "  cursor: pointer;\n",
       "  display: flex;\n",
       "  width: 100%;\n",
       "  margin-bottom: 0;\n",
       "  padding: 0.5em;\n",
       "  box-sizing: border-box;\n",
       "  text-align: center;\n",
       "  align-items: start;\n",
       "  justify-content: space-between;\n",
       "  gap: 0.5em;\n",
       "}\n",
       "\n",
       "#sk-container-id-11 label.sk-toggleable__label .caption {\n",
       "  font-size: 0.6rem;\n",
       "  font-weight: lighter;\n",
       "  color: var(--sklearn-color-text-muted);\n",
       "}\n",
       "\n",
       "#sk-container-id-11 label.sk-toggleable__label-arrow:before {\n",
       "  /* Arrow on the left of the label */\n",
       "  content: \"▸\";\n",
       "  float: left;\n",
       "  margin-right: 0.25em;\n",
       "  color: var(--sklearn-color-icon);\n",
       "}\n",
       "\n",
       "#sk-container-id-11 label.sk-toggleable__label-arrow:hover:before {\n",
       "  color: var(--sklearn-color-text);\n",
       "}\n",
       "\n",
       "/* Toggleable content - dropdown */\n",
       "\n",
       "#sk-container-id-11 div.sk-toggleable__content {\n",
       "  max-height: 0;\n",
       "  max-width: 0;\n",
       "  overflow: hidden;\n",
       "  text-align: left;\n",
       "  /* unfitted */\n",
       "  background-color: var(--sklearn-color-unfitted-level-0);\n",
       "}\n",
       "\n",
       "#sk-container-id-11 div.sk-toggleable__content.fitted {\n",
       "  /* fitted */\n",
       "  background-color: var(--sklearn-color-fitted-level-0);\n",
       "}\n",
       "\n",
       "#sk-container-id-11 div.sk-toggleable__content pre {\n",
       "  margin: 0.2em;\n",
       "  border-radius: 0.25em;\n",
       "  color: var(--sklearn-color-text);\n",
       "  /* unfitted */\n",
       "  background-color: var(--sklearn-color-unfitted-level-0);\n",
       "}\n",
       "\n",
       "#sk-container-id-11 div.sk-toggleable__content.fitted pre {\n",
       "  /* unfitted */\n",
       "  background-color: var(--sklearn-color-fitted-level-0);\n",
       "}\n",
       "\n",
       "#sk-container-id-11 input.sk-toggleable__control:checked~div.sk-toggleable__content {\n",
       "  /* Expand drop-down */\n",
       "  max-height: 200px;\n",
       "  max-width: 100%;\n",
       "  overflow: auto;\n",
       "}\n",
       "\n",
       "#sk-container-id-11 input.sk-toggleable__control:checked~label.sk-toggleable__label-arrow:before {\n",
       "  content: \"▾\";\n",
       "}\n",
       "\n",
       "/* Pipeline/ColumnTransformer-specific style */\n",
       "\n",
       "#sk-container-id-11 div.sk-label input.sk-toggleable__control:checked~label.sk-toggleable__label {\n",
       "  color: var(--sklearn-color-text);\n",
       "  background-color: var(--sklearn-color-unfitted-level-2);\n",
       "}\n",
       "\n",
       "#sk-container-id-11 div.sk-label.fitted input.sk-toggleable__control:checked~label.sk-toggleable__label {\n",
       "  background-color: var(--sklearn-color-fitted-level-2);\n",
       "}\n",
       "\n",
       "/* Estimator-specific style */\n",
       "\n",
       "/* Colorize estimator box */\n",
       "#sk-container-id-11 div.sk-estimator input.sk-toggleable__control:checked~label.sk-toggleable__label {\n",
       "  /* unfitted */\n",
       "  background-color: var(--sklearn-color-unfitted-level-2);\n",
       "}\n",
       "\n",
       "#sk-container-id-11 div.sk-estimator.fitted input.sk-toggleable__control:checked~label.sk-toggleable__label {\n",
       "  /* fitted */\n",
       "  background-color: var(--sklearn-color-fitted-level-2);\n",
       "}\n",
       "\n",
       "#sk-container-id-11 div.sk-label label.sk-toggleable__label,\n",
       "#sk-container-id-11 div.sk-label label {\n",
       "  /* The background is the default theme color */\n",
       "  color: var(--sklearn-color-text-on-default-background);\n",
       "}\n",
       "\n",
       "/* On hover, darken the color of the background */\n",
       "#sk-container-id-11 div.sk-label:hover label.sk-toggleable__label {\n",
       "  color: var(--sklearn-color-text);\n",
       "  background-color: var(--sklearn-color-unfitted-level-2);\n",
       "}\n",
       "\n",
       "/* Label box, darken color on hover, fitted */\n",
       "#sk-container-id-11 div.sk-label.fitted:hover label.sk-toggleable__label.fitted {\n",
       "  color: var(--sklearn-color-text);\n",
       "  background-color: var(--sklearn-color-fitted-level-2);\n",
       "}\n",
       "\n",
       "/* Estimator label */\n",
       "\n",
       "#sk-container-id-11 div.sk-label label {\n",
       "  font-family: monospace;\n",
       "  font-weight: bold;\n",
       "  display: inline-block;\n",
       "  line-height: 1.2em;\n",
       "}\n",
       "\n",
       "#sk-container-id-11 div.sk-label-container {\n",
       "  text-align: center;\n",
       "}\n",
       "\n",
       "/* Estimator-specific */\n",
       "#sk-container-id-11 div.sk-estimator {\n",
       "  font-family: monospace;\n",
       "  border: 1px dotted var(--sklearn-color-border-box);\n",
       "  border-radius: 0.25em;\n",
       "  box-sizing: border-box;\n",
       "  margin-bottom: 0.5em;\n",
       "  /* unfitted */\n",
       "  background-color: var(--sklearn-color-unfitted-level-0);\n",
       "}\n",
       "\n",
       "#sk-container-id-11 div.sk-estimator.fitted {\n",
       "  /* fitted */\n",
       "  background-color: var(--sklearn-color-fitted-level-0);\n",
       "}\n",
       "\n",
       "/* on hover */\n",
       "#sk-container-id-11 div.sk-estimator:hover {\n",
       "  /* unfitted */\n",
       "  background-color: var(--sklearn-color-unfitted-level-2);\n",
       "}\n",
       "\n",
       "#sk-container-id-11 div.sk-estimator.fitted:hover {\n",
       "  /* fitted */\n",
       "  background-color: var(--sklearn-color-fitted-level-2);\n",
       "}\n",
       "\n",
       "/* Specification for estimator info (e.g. \"i\" and \"?\") */\n",
       "\n",
       "/* Common style for \"i\" and \"?\" */\n",
       "\n",
       ".sk-estimator-doc-link,\n",
       "a:link.sk-estimator-doc-link,\n",
       "a:visited.sk-estimator-doc-link {\n",
       "  float: right;\n",
       "  font-size: smaller;\n",
       "  line-height: 1em;\n",
       "  font-family: monospace;\n",
       "  background-color: var(--sklearn-color-background);\n",
       "  border-radius: 1em;\n",
       "  height: 1em;\n",
       "  width: 1em;\n",
       "  text-decoration: none !important;\n",
       "  margin-left: 0.5em;\n",
       "  text-align: center;\n",
       "  /* unfitted */\n",
       "  border: var(--sklearn-color-unfitted-level-1) 1pt solid;\n",
       "  color: var(--sklearn-color-unfitted-level-1);\n",
       "}\n",
       "\n",
       ".sk-estimator-doc-link.fitted,\n",
       "a:link.sk-estimator-doc-link.fitted,\n",
       "a:visited.sk-estimator-doc-link.fitted {\n",
       "  /* fitted */\n",
       "  border: var(--sklearn-color-fitted-level-1) 1pt solid;\n",
       "  color: var(--sklearn-color-fitted-level-1);\n",
       "}\n",
       "\n",
       "/* On hover */\n",
       "div.sk-estimator:hover .sk-estimator-doc-link:hover,\n",
       ".sk-estimator-doc-link:hover,\n",
       "div.sk-label-container:hover .sk-estimator-doc-link:hover,\n",
       ".sk-estimator-doc-link:hover {\n",
       "  /* unfitted */\n",
       "  background-color: var(--sklearn-color-unfitted-level-3);\n",
       "  color: var(--sklearn-color-background);\n",
       "  text-decoration: none;\n",
       "}\n",
       "\n",
       "div.sk-estimator.fitted:hover .sk-estimator-doc-link.fitted:hover,\n",
       ".sk-estimator-doc-link.fitted:hover,\n",
       "div.sk-label-container:hover .sk-estimator-doc-link.fitted:hover,\n",
       ".sk-estimator-doc-link.fitted:hover {\n",
       "  /* fitted */\n",
       "  background-color: var(--sklearn-color-fitted-level-3);\n",
       "  color: var(--sklearn-color-background);\n",
       "  text-decoration: none;\n",
       "}\n",
       "\n",
       "/* Span, style for the box shown on hovering the info icon */\n",
       ".sk-estimator-doc-link span {\n",
       "  display: none;\n",
       "  z-index: 9999;\n",
       "  position: relative;\n",
       "  font-weight: normal;\n",
       "  right: .2ex;\n",
       "  padding: .5ex;\n",
       "  margin: .5ex;\n",
       "  width: min-content;\n",
       "  min-width: 20ex;\n",
       "  max-width: 50ex;\n",
       "  color: var(--sklearn-color-text);\n",
       "  box-shadow: 2pt 2pt 4pt #999;\n",
       "  /* unfitted */\n",
       "  background: var(--sklearn-color-unfitted-level-0);\n",
       "  border: .5pt solid var(--sklearn-color-unfitted-level-3);\n",
       "}\n",
       "\n",
       ".sk-estimator-doc-link.fitted span {\n",
       "  /* fitted */\n",
       "  background: var(--sklearn-color-fitted-level-0);\n",
       "  border: var(--sklearn-color-fitted-level-3);\n",
       "}\n",
       "\n",
       ".sk-estimator-doc-link:hover span {\n",
       "  display: block;\n",
       "}\n",
       "\n",
       "/* \"?\"-specific style due to the `<a>` HTML tag */\n",
       "\n",
       "#sk-container-id-11 a.estimator_doc_link {\n",
       "  float: right;\n",
       "  font-size: 1rem;\n",
       "  line-height: 1em;\n",
       "  font-family: monospace;\n",
       "  background-color: var(--sklearn-color-background);\n",
       "  border-radius: 1rem;\n",
       "  height: 1rem;\n",
       "  width: 1rem;\n",
       "  text-decoration: none;\n",
       "  /* unfitted */\n",
       "  color: var(--sklearn-color-unfitted-level-1);\n",
       "  border: var(--sklearn-color-unfitted-level-1) 1pt solid;\n",
       "}\n",
       "\n",
       "#sk-container-id-11 a.estimator_doc_link.fitted {\n",
       "  /* fitted */\n",
       "  border: var(--sklearn-color-fitted-level-1) 1pt solid;\n",
       "  color: var(--sklearn-color-fitted-level-1);\n",
       "}\n",
       "\n",
       "/* On hover */\n",
       "#sk-container-id-11 a.estimator_doc_link:hover {\n",
       "  /* unfitted */\n",
       "  background-color: var(--sklearn-color-unfitted-level-3);\n",
       "  color: var(--sklearn-color-background);\n",
       "  text-decoration: none;\n",
       "}\n",
       "\n",
       "#sk-container-id-11 a.estimator_doc_link.fitted:hover {\n",
       "  /* fitted */\n",
       "  background-color: var(--sklearn-color-fitted-level-3);\n",
       "}\n",
       "</style><div id=\"sk-container-id-11\" class=\"sk-top-container\"><div class=\"sk-text-repr-fallback\"><pre>RandomForestClassifier(max_depth=5, max_features=6, max_samples=0.8,\n",
       "                       n_estimators=800, n_jobs=-1, oob_score=True,\n",
       "                       random_state=1984)</pre><b>In a Jupyter environment, please rerun this cell to show the HTML representation or trust the notebook. <br />On GitHub, the HTML representation is unable to render, please try loading this page with nbviewer.org.</b></div><div class=\"sk-container\" hidden><div class=\"sk-item\"><div class=\"sk-estimator fitted sk-toggleable\"><input class=\"sk-toggleable__control sk-hidden--visually\" id=\"sk-estimator-id-11\" type=\"checkbox\" checked><label for=\"sk-estimator-id-11\" class=\"sk-toggleable__label fitted sk-toggleable__label-arrow\"><div><div>RandomForestClassifier</div></div><div><a class=\"sk-estimator-doc-link fitted\" rel=\"noreferrer\" target=\"_blank\" href=\"https://scikit-learn.org/1.6/modules/generated/sklearn.ensemble.RandomForestClassifier.html\">?<span>Documentation for RandomForestClassifier</span></a><span class=\"sk-estimator-doc-link fitted\">i<span>Fitted</span></span></div></label><div class=\"sk-toggleable__content fitted\"><pre>RandomForestClassifier(max_depth=5, max_features=6, max_samples=0.8,\n",
       "                       n_estimators=800, n_jobs=-1, oob_score=True,\n",
       "                       random_state=1984)</pre></div> </div></div></div></div>"
      ],
      "text/plain": [
       "RandomForestClassifier(max_depth=5, max_features=6, max_samples=0.8,\n",
       "                       n_estimators=800, n_jobs=-1, oob_score=True,\n",
       "                       random_state=1984)"
      ]
     },
     "execution_count": 301,
     "metadata": {},
     "output_type": "execute_result"
    }
   ],
   "source": [
    "adherence_rf_eng = forest_list2[5]\n",
    "adherence_rf_eng"
   ]
  },
  {
   "cell_type": "markdown",
   "id": "d655996b",
   "metadata": {},
   "source": [
    "#### Best Model and Original Model Comparison"
   ]
  },
  {
   "cell_type": "code",
   "execution_count": 302,
   "id": "65f9917f",
   "metadata": {},
   "outputs": [
    {
     "name": "stdout",
     "output_type": "stream",
     "text": [
      "original model error: 0.464638783269962\n",
      "new model error: 0.47224334600760454\n"
     ]
    },
    {
     "data": {
      "text/plain": [
       "<sklearn.metrics._plot.confusion_matrix.ConfusionMatrixDisplay at 0x7f138af09600>"
      ]
     },
     "execution_count": 302,
     "metadata": {},
     "output_type": "execute_result"
    },
    {
     "data": {
      "image/png": "[encoded data removed]",
      "text/plain": [
       "<Figure size 640x480 with 1 Axes>"
      ]
     },
     "metadata": {},
     "output_type": "display_data"
    },
    {
     "data": {
      "image/png": "[encoded data removed]",
      "text/plain": [
       "<Figure size 640x480 with 1 Axes>"
      ]
     },
     "metadata": {},
     "output_type": "display_data"
    }
   ],
   "source": [
    "print('original model error: ' +str(1-adherence_rf.oob_score_))\n",
    "ConfusionMatrixDisplay.from_estimator(adherence_rf,X_train,y_train, colorbar= False)\n",
    "\n",
    "#New\n",
    "print('new model error: ' + str(1-adherence_rf_eng.oob_score_))\n",
    "ConfusionMatrixDisplay.from_estimator(adherence_rf_eng,X_train2,y_train, colorbar= False)"
   ]
  },
  {
   "cell_type": "markdown",
   "id": "a1ccf60b",
   "metadata": {},
   "source": [
    "#### New Test Confusion Matrix"
   ]
  },
  {
   "cell_type": "code",
   "execution_count": 303,
   "id": "1fc8fc9f",
   "metadata": {},
   "outputs": [
    {
     "data": {
      "text/plain": [
       "<sklearn.metrics._plot.confusion_matrix.ConfusionMatrixDisplay at 0x7f13a1c429b0>"
      ]
     },
     "execution_count": 303,
     "metadata": {},
     "output_type": "execute_result"
    },
    {
     "data": {
      "image/png": "[encoded data removed]",
      "text/plain": [
       "<Figure size 640x480 with 1 Axes>"
      ]
     },
     "metadata": {},
     "output_type": "display_data"
    }
   ],
   "source": [
    "adherence_predict = adherence_rf_eng.predict(X_test2)\n",
    "ConfusionMatrixDisplay.from_predictions(y_test,adherence_predict, colorbar= False)"
   ]
  },
  {
   "cell_type": "markdown",
   "id": "56621506",
   "metadata": {},
   "source": [
    "#### Variable Importance for New Model"
   ]
  },
  {
   "cell_type": "code",
   "execution_count": 304,
   "id": "e3ce0e7f",
   "metadata": {},
   "outputs": [
    {
     "name": "stdout",
     "output_type": "stream",
     "text": [
      "                          importance\n",
      "CholesterolTriglycerides    0.096329\n",
      "QualityOfLifeScore          0.070157\n",
      "CholesterolLDL              0.064436\n",
      "CholesterolHDL              0.059302\n",
      "HbA1c                       0.050423\n",
      "DietQuality                 0.047599\n",
      "HealthLiteracy              0.046814\n",
      "SleepQuality                0.046441\n",
      "BMI                         0.044699\n",
      "PhysicalActivity            0.043571\n",
      "FatigueLevels               0.043063\n",
      "SerumCreatinine             0.042382\n",
      "FastingBloodSugar           0.042191\n",
      "BUNLevels                   0.041226\n",
      "MedicalCheckupsFrequency    0.039342\n",
      "CholesterolTotal            0.038997\n",
      "Age                         0.038064\n",
      "AlcoholConsumption          0.036393\n",
      "DiastolicBP                 0.036252\n",
      "SystolicBP                  0.033460\n",
      "Statins                     0.017560\n",
      "EducationLevel              0.014998\n",
      "SocioeconomicStatus         0.006300\n"
     ]
    }
   ],
   "source": [
    "# Variable Importance\n",
    "print(pd.DataFrame(adherence_rf_eng.feature_importances_,index = X_train2.columns,columns=['importance']).sort_values('importance', ascending=False))"
   ]
  },
  {
   "cell_type": "markdown",
   "id": "8d46b4a0",
   "metadata": {},
   "source": [
    "#### Accuracy Scores"
   ]
  },
  {
   "cell_type": "code",
   "execution_count": 305,
   "id": "241303b0",
   "metadata": {},
   "outputs": [
    {
     "name": "stdout",
     "output_type": "stream",
     "text": [
      "Precision:  0.49234894247906247\n",
      "F1 Score:  0.48796691431006384\n",
      "Recall:  0.49645390070921985\n"
     ]
    }
   ],
   "source": [
    "y_pred = adherence_rf_eng.predict(X_test2)\n",
    "\n",
    "print('Precision: ', precision_score(y_test, y_pred, average='weighted'))\n",
    "print('F1 Score: ', f1_score(y_test, y_pred, average='weighted'))\n",
    "print('Recall: ', recall_score(y_test, y_pred, average='weighted'))"
   ]
  },
  {
   "cell_type": "markdown",
   "id": "b5cafbee",
   "metadata": {},
   "source": [
    "#### ROC Curve"
   ]
  },
  {
   "cell_type": "code",
   "execution_count": 306,
   "id": "207cc77c",
   "metadata": {},
   "outputs": [
    {
     "data": {
      "text/plain": [
       "Text(0.5, 0, 'False Positive Rate')"
      ]
     },
     "execution_count": 306,
     "metadata": {},
     "output_type": "execute_result"
    },
    {
     "data": {
      "image/png": "[encoded data removed]",
      "text/plain": [
       "<Figure size 640x480 with 1 Axes>"
      ]
     },
     "metadata": {},
     "output_type": "display_data"
    }
   ],
   "source": [
    "# ROC Curve\n",
    "RocCurveDisplay.from_estimator(\n",
    "    adherence_rf_eng,\n",
    "    X_test2,\n",
    "    y_test,\n",
    "    name=\"Random Forest Classifier\",\n",
    "    color=\"blue\",\n",
    ")\n",
    "plt.plot([0, 1], [0, 1],'r--')\n",
    "plt.ylabel('True Positive Rate')\n",
    "plt.xlabel('False Positive Rate')"
   ]
  },
  {
   "cell_type": "code",
   "execution_count": 307,
   "id": "99dc5789",
   "metadata": {},
   "outputs": [
    {
     "name": "stdout",
     "output_type": "stream",
     "text": [
      "Best Threshold: 0.555519\n"
     ]
    }
   ],
   "source": [
    "pred = adherence_rf_eng.predict_proba(X_test2)[:, 1]\n",
    "fpr, tpr, thresholds = roc_curve(y_test, pred)\n",
    "\n",
    "ix =  np.argmax(tpr - fpr)\n",
    "print('Best Threshold: %f' % thresholds[ix])"
   ]
  },
  {
   "cell_type": "markdown",
   "id": "7e1b3837",
   "metadata": {},
   "source": [
    "#### Optimal Point"
   ]
  },
  {
   "cell_type": "code",
   "execution_count": 308,
   "id": "ff62f579",
   "metadata": {},
   "outputs": [
    {
     "data": {
      "text/plain": [
       "<matplotlib.legend.Legend at 0x7f13e9eb96c0>"
      ]
     },
     "execution_count": 308,
     "metadata": {},
     "output_type": "execute_result"
    },
    {
     "data": {
      "image/png": "[encoded data removed]",
      "text/plain": [
       "<Figure size 640x480 with 1 Axes>"
      ]
     },
     "metadata": {},
     "output_type": "display_data"
    }
   ],
   "source": [
    "auc = metrics.roc_auc_score(y_test, pred)\n",
    "plt.plot(fpr, tpr, label = 'AUC = %0.4f' % auc) \n",
    "plt.scatter(fpr[ix], tpr[ix], marker='o', color='black', label='Best Thresh')\n",
    "plt.plot([0, 1], [0, 1],'r--')\n",
    "plt.ylabel('True Positive Rate')\n",
    "plt.xlabel('False Positive Rate')\n",
    "plt.legend()"
   ]
  }
 ],
 "metadata": {
  "kernelspec": {
   "display_name": "Python 3",
   "language": "python",
   "name": "python3"
  },
  "language_info": {
   "codemirror_mode": {
    "name": "ipython",
    "version": 3
   },
   "file_extension": ".py",
   "mimetype": "text/x-python",
   "name": "python",
   "nbconvert_exporter": "python",
   "pygments_lexer": "ipython3",
   "version": "3.10.12"
  }
 },
 "nbformat": 4,
 "nbformat_minor": 5
}
